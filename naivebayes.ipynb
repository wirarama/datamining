{
 "cells": [
  {
   "cell_type": "code",
   "execution_count": 1,
   "metadata": {},
   "outputs": [],
   "source": [
    "import pandas as pd\n",
    "from random import randint,uniform"
   ]
  },
  {
   "cell_type": "code",
   "execution_count": 2,
   "metadata": {},
   "outputs": [],
   "source": [
    "data = []\n",
    "cols = ['a','b','c','d','y']\n",
    "for i in range(500):\n",
    "    y = randint(0,3)\n",
    "    if y==0:\n",
    "        a = randint(1,10)\n",
    "        b = uniform(1,2)\n",
    "        c = 10+(uniform(0,1)*10)\n",
    "        d = 100+(uniform(0,1)*100)\n",
    "    elif y==1:\n",
    "        a = randint(11,20)\n",
    "        b = uniform(3,4)\n",
    "        c = 20+(uniform(0,1)*10)\n",
    "        d = 200+(uniform(0,1)*100)\n",
    "    elif y==2:\n",
    "        a = randint(21,30)\n",
    "        b = uniform(5,6)\n",
    "        c = 30+(uniform(0,1)*10)\n",
    "        d = 300+(uniform(0,1)*100)\n",
    "    else:\n",
    "        a = randint(31,40)\n",
    "        b = uniform(7,8)\n",
    "        c = 40+(uniform(0,1)*10)\n",
    "        d = 400+(uniform(0,1)*100)\n",
    "    data.append([a,b,c,d,y])\n",
    "df = pd.DataFrame(data,columns=cols)"
   ]
  },
  {
   "cell_type": "code",
   "execution_count": 3,
   "metadata": {},
   "outputs": [
    {
     "name": "stdout",
     "output_type": "stream",
     "text": [
      "      a         b          c           d  y\n",
      "0    18  3.840302  29.003732  271.215671  1\n",
      "1    37  7.960398  41.277924  435.528900  3\n",
      "2    39  7.855492  41.061438  440.534818  3\n",
      "3    28  5.622229  39.955494  339.536594  2\n",
      "4    27  5.985797  38.858278  306.917769  2\n",
      "..   ..       ...        ...         ... ..\n",
      "495  18  3.935713  28.794750  237.244076  1\n",
      "496  21  5.528775  34.911052  324.164087  2\n",
      "497  12  3.268776  23.452212  233.166449  1\n",
      "498  26  5.643885  39.153338  374.305689  2\n",
      "499   5  1.095764  17.623138  185.714577  0\n",
      "\n",
      "[500 rows x 5 columns]\n"
     ]
    }
   ],
   "source": [
    "print(df)"
   ]
  },
  {
   "cell_type": "code",
   "execution_count": 4,
   "metadata": {},
   "outputs": [],
   "source": [
    "data = df[['a','b','c','d']]"
   ]
  },
  {
   "cell_type": "code",
   "execution_count": 5,
   "metadata": {},
   "outputs": [],
   "source": [
    "label = df['y']"
   ]
  },
  {
   "cell_type": "code",
   "execution_count": 6,
   "metadata": {},
   "outputs": [],
   "source": [
    "from sklearn.model_selection import train_test_split\n",
    "train_x, test_x, train_y, test_y = train_test_split(data, label, test_size=0.10, random_state=42)"
   ]
  },
  {
   "cell_type": "code",
   "execution_count": 7,
   "metadata": {},
   "outputs": [],
   "source": [
    "from sklearn.naive_bayes import GaussianNB"
   ]
  },
  {
   "cell_type": "code",
   "execution_count": 8,
   "metadata": {},
   "outputs": [],
   "source": [
    "clf = GaussianNB()"
   ]
  },
  {
   "cell_type": "code",
   "execution_count": 9,
   "metadata": {},
   "outputs": [
    {
     "data": {
      "text/plain": [
       "GaussianNB(priors=None, var_smoothing=1e-09)"
      ]
     },
     "execution_count": 9,
     "metadata": {},
     "output_type": "execute_result"
    }
   ],
   "source": [
    "clf.fit(train_x,train_y)"
   ]
  },
  {
   "cell_type": "code",
   "execution_count": 10,
   "metadata": {},
   "outputs": [],
   "source": [
    "pred_y = clf.predict(test_x)"
   ]
  },
  {
   "cell_type": "code",
   "execution_count": 11,
   "metadata": {},
   "outputs": [
    {
     "name": "stdout",
     "output_type": "stream",
     "text": [
      "1.0\n"
     ]
    }
   ],
   "source": [
    "from sklearn.metrics import accuracy_score\n",
    "score = accuracy_score(test_y,pred_y)\n",
    "print(score)"
   ]
  },
  {
   "cell_type": "code",
   "execution_count": 12,
   "metadata": {},
   "outputs": [],
   "source": [
    "from sklearn.naive_bayes import MultinomialNB"
   ]
  },
  {
   "cell_type": "code",
   "execution_count": 13,
   "metadata": {},
   "outputs": [],
   "source": [
    "clf = MultinomialNB(alpha=1.0,class_prior=None,fit_prior=True)"
   ]
  },
  {
   "cell_type": "code",
   "execution_count": 14,
   "metadata": {},
   "outputs": [
    {
     "data": {
      "text/plain": [
       "MultinomialNB(alpha=1.0, class_prior=None, fit_prior=True)"
      ]
     },
     "execution_count": 14,
     "metadata": {},
     "output_type": "execute_result"
    }
   ],
   "source": [
    "clf.fit(train_x,train_y)"
   ]
  },
  {
   "cell_type": "code",
   "execution_count": 15,
   "metadata": {},
   "outputs": [],
   "source": [
    "pred_y = clf.predict(test_x)"
   ]
  },
  {
   "cell_type": "code",
   "execution_count": 16,
   "metadata": {},
   "outputs": [
    {
     "name": "stdout",
     "output_type": "stream",
     "text": [
      "0.64\n"
     ]
    }
   ],
   "source": [
    "score = accuracy_score(test_y,pred_y)\n",
    "print(score)"
   ]
  },
  {
   "cell_type": "code",
   "execution_count": 20,
   "metadata": {},
   "outputs": [],
   "source": [
    "import numpy as np\n",
    "from sklearn.feature_extraction.text import TfidfVectorizer"
   ]
  },
  {
   "cell_type": "code",
   "execution_count": 24,
   "metadata": {},
   "outputs": [],
   "source": [
    "text = \"\"\"saya suka makan nasi. paling suka nasi goreng. apalagi nasi goreng kambing yang sangat pedas. hehe\n",
    "saya suka makan mie. paling suka mie goreng. apalagi mie goreng aceh yang sangat pedas. hehe\n",
    "kemarin saya pergi ke kebun binatang. eh malah dikasi masuk gratis. tapi ke kandang harimau. salah saya apa ya? hehe\n",
    "seminggu lalu saya pergi ke bioskop. eh malah dikasi masuk gratis. disangka pemeran film horror. muka saya emang horror ya? hehe\"\"\""
   ]
  },
  {
   "cell_type": "code",
   "execution_count": 25,
   "metadata": {},
   "outputs": [],
   "source": [
    "vectorizer = TfidfVectorizer(sublinear_tf=True, max_df=0.5)\n",
    "X = vectorizer.fit_transform(text.split(\"\\n\"))\n",
    "y = np.array([1, 1, 2, 2])"
   ]
  },
  {
   "cell_type": "code",
   "execution_count": 26,
   "metadata": {},
   "outputs": [
    {
     "name": "stdout",
     "output_type": "stream",
     "text": [
      "Fitur Text ['aceh', 'apa', 'apalagi', 'binatang', 'bioskop', 'dikasi', 'disangka', 'eh', 'emang', 'film', 'goreng', 'gratis', 'harimau', 'horror', 'kambing', 'kandang', 'ke', 'kebun', 'kemarin', 'lalu', 'makan', 'malah', 'masuk', 'mie', 'muka', 'nasi', 'paling', 'pedas', 'pemeran', 'pergi', 'salah', 'sangat', 'seminggu', 'suka', 'tapi', 'ya', 'yang'] \n"
     ]
    }
   ],
   "source": [
    "print(\"Fitur Text %s \" % (vectorizer.get_feature_names()))"
   ]
  },
  {
   "cell_type": "code",
   "execution_count": 27,
   "metadata": {},
   "outputs": [
    {
     "name": "stdout",
     "output_type": "stream",
     "text": [
      "Shape : (4, 37) \n"
     ]
    }
   ],
   "source": [
    "print(\"Shape : %s \" % str(X.shape))"
   ]
  },
  {
   "cell_type": "code",
   "execution_count": 28,
   "metadata": {},
   "outputs": [
    {
     "name": "stdout",
     "output_type": "stream",
     "text": [
      "X :   (0, 27)\t0.22125426187399413\n",
      "  (0, 31)\t0.22125426187399413\n",
      "  (0, 36)\t0.22125426187399413\n",
      "  (0, 14)\t0.28063297626626893\n",
      "  (0, 2)\t0.22125426187399413\n",
      "  (0, 10)\t0.37461602967882496\n",
      "  (0, 26)\t0.22125426187399413\n",
      "  (0, 25)\t0.5889398125978981\n",
      "  (0, 20)\t0.22125426187399413\n",
      "  (0, 33)\t0.37461602967882496\n",
      "  (1, 0)\t0.28063297626626893\n",
      "  (1, 23)\t0.5889398125978981\n",
      "  (1, 27)\t0.22125426187399413\n",
      "  (1, 31)\t0.22125426187399413\n",
      "  (1, 36)\t0.22125426187399413\n",
      "  (1, 2)\t0.22125426187399413\n",
      "  (1, 10)\t0.37461602967882496\n",
      "  (1, 26)\t0.22125426187399413\n",
      "  (1, 20)\t0.22125426187399413\n",
      "  (1, 33)\t0.37461602967882496\n",
      "  (2, 35)\t0.20971730094276944\n",
      "  (2, 1)\t0.26599980420542463\n",
      "  (2, 30)\t0.26599980420542463\n",
      "  (2, 12)\t0.26599980420542463\n",
      "  (2, 15)\t0.26599980420542463\n",
      "  :\t:\n",
      "  (2, 5)\t0.20971730094276944\n",
      "  (2, 21)\t0.20971730094276944\n",
      "  (2, 7)\t0.20971730094276944\n",
      "  (2, 3)\t0.26599980420542463\n",
      "  (2, 17)\t0.26599980420542463\n",
      "  (2, 16)\t0.3550822568058916\n",
      "  (2, 29)\t0.20971730094276944\n",
      "  (2, 18)\t0.26599980420542463\n",
      "  (3, 8)\t0.2512635087497749\n",
      "  (3, 24)\t0.2512635087497749\n",
      "  (3, 13)\t0.42542610141728054\n",
      "  (3, 9)\t0.2512635087497749\n",
      "  (3, 28)\t0.2512635087497749\n",
      "  (3, 6)\t0.2512635087497749\n",
      "  (3, 4)\t0.2512635087497749\n",
      "  (3, 19)\t0.2512635087497749\n",
      "  (3, 32)\t0.2512635087497749\n",
      "  (3, 35)\t0.1980990363425918\n",
      "  (3, 11)\t0.1980990363425918\n",
      "  (3, 22)\t0.1980990363425918\n",
      "  (3, 5)\t0.1980990363425918\n",
      "  (3, 21)\t0.1980990363425918\n",
      "  (3, 7)\t0.1980990363425918\n",
      "  (3, 16)\t0.1980990363425918\n",
      "  (3, 29)\t0.1980990363425918 \n"
     ]
    }
   ],
   "source": [
    "print(\"X : %s \" % (X))"
   ]
  },
  {
   "cell_type": "code",
   "execution_count": 29,
   "metadata": {},
   "outputs": [
    {
     "data": {
      "text/plain": [
       "MultinomialNB(alpha=1.0, class_prior=None, fit_prior=True)"
      ]
     },
     "execution_count": 29,
     "metadata": {},
     "output_type": "execute_result"
    }
   ],
   "source": [
    "clf = MultinomialNB(alpha=1.0,class_prior=None,fit_prior=True)\n",
    "clf.fit(X,y)"
   ]
  },
  {
   "cell_type": "code",
   "execution_count": 30,
   "metadata": {},
   "outputs": [
    {
     "name": "stdout",
     "output_type": "stream",
     "text": [
      "Hasil Prediksi [1] \n"
     ]
    }
   ],
   "source": [
    "Xtest = vectorizer.transform([\"saya suka makan paku. paling suka paku tembok beton. apalagi paku yang sangat tajam.\"])\n",
    "print(\"Hasil Prediksi %s \" % (clf.predict(Xtest)))"
   ]
  },
  {
   "cell_type": "code",
   "execution_count": 31,
   "metadata": {},
   "outputs": [
    {
     "name": "stdout",
     "output_type": "stream",
     "text": [
      "Hasil Prediksi [2] \n"
     ]
    }
   ],
   "source": [
    "Xtest1 = vectorizer.transform([\"setahun lalu saya pergi ke samudra atlantis. kemudian dihajar oleh...\"])\n",
    "print(\"Hasil Prediksi %s \" % (clf.predict(Xtest1)))"
   ]
  },
  {
   "cell_type": "code",
   "execution_count": 32,
   "metadata": {},
   "outputs": [
    {
     "name": "stdout",
     "output_type": "stream",
     "text": [
      "Hasil Prediksi [2] \n"
     ]
    }
   ],
   "source": [
    "Xtest2 = vectorizer.transform([\"dihari minggu kuturut ayah ke kota\"])\n",
    "print(\"Hasil Prediksi %s \" % (clf.predict(Xtest2)))"
   ]
  },
  {
   "cell_type": "code",
   "execution_count": 33,
   "metadata": {},
   "outputs": [
    {
     "name": "stdout",
     "output_type": "stream",
     "text": [
      "Hasil Prediksi [1] \n"
     ]
    }
   ],
   "source": [
    "Xtest3 = vectorizer.transform([\"makan yuk\"])\n",
    "print(\"Hasil Prediksi %s \" % (clf.predict(Xtest3)))"
   ]
  },
  {
   "cell_type": "code",
   "execution_count": null,
   "metadata": {},
   "outputs": [],
   "source": []
  }
 ],
 "metadata": {
  "kernelspec": {
   "display_name": "Python 3",
   "language": "python",
   "name": "python3"
  },
  "language_info": {
   "codemirror_mode": {
    "name": "ipython",
    "version": 3
   },
   "file_extension": ".py",
   "mimetype": "text/x-python",
   "name": "python",
   "nbconvert_exporter": "python",
   "pygments_lexer": "ipython3",
   "version": "3.8.5"
  }
 },
 "nbformat": 4,
 "nbformat_minor": 2
}
