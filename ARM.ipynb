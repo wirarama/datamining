{
 "cells": [
  {
   "cell_type": "code",
   "execution_count": 1,
   "metadata": {},
   "outputs": [],
   "source": [
    "from random import randint"
   ]
  },
  {
   "cell_type": "code",
   "execution_count": 16,
   "metadata": {},
   "outputs": [],
   "source": [
    "data = []\n",
    "cols = ['a','b','c','d']\n",
    "def categorymaker(n,m):\n",
    "    out = []\n",
    "    i = 1\n",
    "    for x in range(n):\n",
    "        out.append(str(m)+str(i))\n",
    "        i+=1\n",
    "    return out\n",
    "a = categorymaker(5,'a')\n",
    "b = categorymaker(8,'b')\n",
    "c = categorymaker(12,'c')\n",
    "d = categorymaker(3,'d')\n",
    "f = categorymaker(7,'f')\n",
    "g = categorymaker(4,'g')\n",
    "for i in range(100):\n",
    "    ax = a[randint(0,(len(a)-1))]\n",
    "    bx = b[randint(0,(len(b)-1))]\n",
    "    cx = c[randint(0,(len(c)-1))]\n",
    "    dx = d[randint(0,(len(d)-1))]\n",
    "    fx = f[randint(0,(len(f)-1))]\n",
    "    gx = g[randint(0,(len(g)-1))]\n",
    "    data.append([ax,bx,cx,dx,fx,gx])"
   ]
  },
  {
   "cell_type": "code",
   "execution_count": 17,
   "metadata": {},
   "outputs": [
    {
     "name": "stdout",
     "output_type": "stream",
     "text": [
      "[['a4', 'b2', 'c1', 'd3', 'f6', 'g4'], ['a3', 'b4', 'c9', 'd1', 'f7', 'g4'], ['a4', 'b2', 'c4', 'd1', 'f4', 'g2'], ['a4', 'b5', 'c11', 'd3', 'f4', 'g2'], ['a3', 'b1', 'c11', 'd1', 'f5', 'g1'], ['a1', 'b4', 'c6', 'd1', 'f6', 'g3'], ['a1', 'b2', 'c8', 'd1', 'f6', 'g3'], ['a2', 'b1', 'c1', 'd3', 'f1', 'g2'], ['a2', 'b8', 'c9', 'd1', 'f7', 'g1'], ['a3', 'b2', 'c4', 'd2', 'f2', 'g1'], ['a5', 'b7', 'c9', 'd3', 'f4', 'g2'], ['a2', 'b6', 'c6', 'd2', 'f3', 'g4'], ['a3', 'b1', 'c8', 'd2', 'f4', 'g4'], ['a4', 'b6', 'c6', 'd3', 'f7', 'g3'], ['a2', 'b6', 'c9', 'd1', 'f7', 'g2'], ['a5', 'b2', 'c7', 'd3', 'f6', 'g4'], ['a1', 'b2', 'c8', 'd1', 'f7', 'g3'], ['a1', 'b4', 'c3', 'd2', 'f2', 'g3'], ['a4', 'b4', 'c7', 'd3', 'f1', 'g2'], ['a3', 'b1', 'c8', 'd3', 'f6', 'g4'], ['a3', 'b1', 'c11', 'd2', 'f3', 'g4'], ['a2', 'b8', 'c1', 'd3', 'f5', 'g1'], ['a4', 'b7', 'c11', 'd2', 'f6', 'g4'], ['a3', 'b1', 'c3', 'd2', 'f7', 'g1'], ['a3', 'b7', 'c3', 'd3', 'f6', 'g3'], ['a4', 'b6', 'c3', 'd2', 'f7', 'g2'], ['a3', 'b7', 'c6', 'd3', 'f2', 'g3'], ['a2', 'b6', 'c8', 'd3', 'f1', 'g4'], ['a1', 'b6', 'c12', 'd2', 'f5', 'g2'], ['a5', 'b8', 'c12', 'd1', 'f7', 'g1'], ['a5', 'b3', 'c2', 'd2', 'f5', 'g1'], ['a1', 'b6', 'c12', 'd1', 'f2', 'g3'], ['a2', 'b1', 'c7', 'd2', 'f3', 'g1'], ['a4', 'b3', 'c1', 'd1', 'f1', 'g1'], ['a3', 'b6', 'c12', 'd3', 'f1', 'g4'], ['a4', 'b1', 'c1', 'd1', 'f5', 'g2'], ['a1', 'b1', 'c7', 'd2', 'f4', 'g4'], ['a1', 'b7', 'c2', 'd3', 'f3', 'g2'], ['a3', 'b3', 'c5', 'd3', 'f6', 'g4'], ['a1', 'b5', 'c10', 'd2', 'f3', 'g2'], ['a4', 'b3', 'c1', 'd3', 'f1', 'g1'], ['a4', 'b8', 'c1', 'd1', 'f6', 'g2'], ['a5', 'b7', 'c5', 'd2', 'f7', 'g1'], ['a1', 'b5', 'c8', 'd2', 'f4', 'g3'], ['a2', 'b6', 'c7', 'd1', 'f5', 'g4'], ['a1', 'b5', 'c2', 'd2', 'f5', 'g1'], ['a2', 'b6', 'c11', 'd2', 'f7', 'g2'], ['a1', 'b7', 'c8', 'd1', 'f5', 'g4'], ['a5', 'b3', 'c3', 'd2', 'f3', 'g4'], ['a4', 'b3', 'c11', 'd3', 'f6', 'g4'], ['a1', 'b5', 'c3', 'd1', 'f2', 'g4'], ['a3', 'b7', 'c12', 'd3', 'f3', 'g3'], ['a3', 'b8', 'c11', 'd3', 'f4', 'g1'], ['a2', 'b4', 'c4', 'd3', 'f7', 'g1'], ['a3', 'b7', 'c4', 'd1', 'f1', 'g2'], ['a2', 'b3', 'c2', 'd1', 'f5', 'g2'], ['a5', 'b7', 'c12', 'd1', 'f4', 'g1'], ['a1', 'b1', 'c1', 'd1', 'f5', 'g4'], ['a4', 'b7', 'c3', 'd3', 'f5', 'g2'], ['a1', 'b4', 'c1', 'd3', 'f5', 'g3'], ['a3', 'b3', 'c1', 'd3', 'f4', 'g3'], ['a5', 'b4', 'c6', 'd1', 'f1', 'g2'], ['a3', 'b1', 'c7', 'd2', 'f6', 'g1'], ['a1', 'b6', 'c12', 'd2', 'f4', 'g1'], ['a1', 'b3', 'c7', 'd1', 'f3', 'g1'], ['a2', 'b2', 'c6', 'd1', 'f4', 'g2'], ['a2', 'b6', 'c11', 'd1', 'f5', 'g1'], ['a3', 'b4', 'c12', 'd3', 'f6', 'g4'], ['a2', 'b3', 'c9', 'd3', 'f4', 'g2'], ['a3', 'b3', 'c12', 'd2', 'f1', 'g2'], ['a2', 'b7', 'c7', 'd3', 'f7', 'g1'], ['a2', 'b6', 'c1', 'd2', 'f7', 'g1'], ['a2', 'b6', 'c10', 'd3', 'f4', 'g2'], ['a4', 'b2', 'c11', 'd1', 'f7', 'g3'], ['a3', 'b4', 'c11', 'd2', 'f1', 'g2'], ['a2', 'b1', 'c1', 'd1', 'f5', 'g2'], ['a3', 'b7', 'c9', 'd1', 'f4', 'g4'], ['a1', 'b6', 'c6', 'd2', 'f6', 'g1'], ['a4', 'b6', 'c1', 'd1', 'f2', 'g1'], ['a2', 'b5', 'c9', 'd2', 'f1', 'g4'], ['a3', 'b1', 'c9', 'd2', 'f1', 'g2'], ['a4', 'b3', 'c2', 'd2', 'f4', 'g1'], ['a4', 'b2', 'c9', 'd1', 'f6', 'g2'], ['a1', 'b2', 'c10', 'd3', 'f4', 'g4'], ['a3', 'b6', 'c9', 'd2', 'f3', 'g2'], ['a2', 'b1', 'c11', 'd3', 'f5', 'g1'], ['a3', 'b7', 'c11', 'd2', 'f7', 'g2'], ['a5', 'b1', 'c7', 'd1', 'f4', 'g4'], ['a5', 'b5', 'c5', 'd2', 'f2', 'g1'], ['a2', 'b6', 'c10', 'd3', 'f3', 'g1'], ['a5', 'b2', 'c10', 'd3', 'f1', 'g4'], ['a3', 'b8', 'c4', 'd2', 'f3', 'g1'], ['a5', 'b8', 'c5', 'd1', 'f4', 'g4'], ['a1', 'b5', 'c8', 'd1', 'f6', 'g3'], ['a2', 'b7', 'c4', 'd3', 'f7', 'g1'], ['a4', 'b7', 'c3', 'd2', 'f7', 'g2'], ['a2', 'b3', 'c12', 'd3', 'f3', 'g4'], ['a4', 'b6', 'c1', 'd3', 'f4', 'g1'], ['a4', 'b2', 'c11', 'd3', 'f4', 'g2'], ['a4', 'b2', 'c6', 'd2', 'f3', 'g3']]\n"
     ]
    }
   ],
   "source": [
    "print(data)"
   ]
  },
  {
   "cell_type": "markdown",
   "metadata": {},
   "source": [
    "FPGrowth"
   ]
  },
  {
   "cell_type": "code",
   "execution_count": 8,
   "metadata": {},
   "outputs": [
    {
     "name": "stdout",
     "output_type": "stream",
     "text": [
      "Collecting pyfpgrowth\n",
      "  Downloading pyfpgrowth-1.0.tar.gz (1.6 MB)\n",
      "\u001b[K     |████████████████████████████████| 1.6 MB 1.0 MB/s eta 0:00:01\n",
      "\u001b[?25hBuilding wheels for collected packages: pyfpgrowth\n",
      "  Building wheel for pyfpgrowth (setup.py) ... \u001b[?25ldone\n",
      "\u001b[?25h  Created wheel for pyfpgrowth: filename=pyfpgrowth-1.0-py2.py3-none-any.whl size=5479 sha256=d8d8d9f94a48eae6981c0054b06d161b4b800ea94ca8cd8a2d20e36057055df1\n",
      "  Stored in directory: /home/wirarama/.cache/pip/wheels/73/97/4b/f12ac994f6bbb99597396255435824c73ad3916be1e678be55\n",
      "Successfully built pyfpgrowth\n",
      "Installing collected packages: pyfpgrowth\n",
      "Successfully installed pyfpgrowth-1.0\n"
     ]
    }
   ],
   "source": [
    "!~/anaconda3/bin/pip install pyfpgrowth"
   ]
  },
  {
   "cell_type": "code",
   "execution_count": 9,
   "metadata": {},
   "outputs": [],
   "source": [
    "import pyfpgrowth"
   ]
  },
  {
   "cell_type": "code",
   "execution_count": 18,
   "metadata": {},
   "outputs": [
    {
     "name": "stdout",
     "output_type": "stream",
     "text": [
      "('c2',) : 5\n",
      "('c10',) : 5\n",
      "('c4',) : 6\n",
      "('b8',) : 7\n",
      "('b8', 'g1') : 5\n",
      "('f2',) : 7\n",
      "('a1', 'b5') : 5\n",
      "('b5', 'd2') : 5\n",
      "('c6',) : 8\n",
      "('c8',) : 8\n",
      "('a1', 'c8') : 5\n",
      "('c3',) : 8\n",
      "('c3', 'd2') : 5\n",
      "('b4',) : 9\n",
      "('c7',) : 9\n",
      "('c9', 'd1') : 5\n",
      "('c9', 'g2') : 6\n",
      "('c12',) : 10\n",
      "('a5', 'g4') : 5\n",
      "('a5', 'g1') : 5\n",
      "('a5', 'd1') : 5\n",
      "('b2', 'd3') : 5\n",
      "('a4', 'b2') : 6\n",
      "('b2', 'd1') : 6\n",
      "('a4', 'c11') : 5\n",
      "('c11', 'g2') : 5\n",
      "('c11', 'd3') : 5\n",
      "('a3', 'c11') : 5\n",
      "('c11', 'd2') : 5\n",
      "('a3', 'f1') : 5\n",
      "('d3', 'f1') : 6\n",
      "('f1', 'g2') : 7\n",
      "('f3',) : 13\n",
      "('d2', 'f3') : 8\n",
      "('b3', 'g1') : 5\n",
      "('b3', 'd3') : 6\n",
      "('c1', 'f5') : 5\n",
      "('c1', 'g1') : 6\n",
      "('c1', 'd1') : 6\n",
      "('a4', 'c1') : 7\n",
      "('c1', 'd3') : 7\n",
      "('a4', 'f6') : 5\n",
      "('d1', 'f6') : 5\n",
      "('a3', 'f6') : 5\n",
      "('f6', 'g4') : 7\n",
      "('d3', 'f6') : 7\n",
      "('d3', 'f6', 'g4') : 6\n",
      "('b1', 'g1') : 5\n",
      "('b1', 'd1') : 5\n",
      "('b1', 'g4') : 6\n",
      "('a3', 'b1') : 7\n",
      "('b1', 'd2') : 7\n",
      "('a3', 'b1', 'd2') : 5\n",
      "('b1', 'f5') : 5\n",
      "('a1', 'f5') : 5\n",
      "('f5', 'g2') : 5\n",
      "('f5', 'g1') : 6\n",
      "('a2', 'f5') : 6\n",
      "('d1', 'f5') : 8\n",
      "('d1', 'g3') : 6\n",
      "('a1', 'd1', 'g3') : 5\n",
      "('d3', 'g3') : 6\n",
      "('a1', 'g3') : 8\n",
      "('b7', 'f7') : 5\n",
      "('b7', 'g2') : 6\n",
      "('a3', 'b7') : 6\n",
      "('b7', 'd3') : 8\n",
      "('b6', 'f7') : 5\n",
      "('f7', 'g2') : 5\n",
      "('d1', 'f7') : 6\n",
      "('a2', 'f7') : 7\n",
      "('a2', 'f7', 'g1') : 5\n",
      "('d2', 'f7') : 7\n",
      "('f7', 'g1') : 8\n",
      "('b6', 'd1') : 5\n",
      "('b6', 'd3') : 6\n",
      "('b6', 'g2') : 6\n",
      "('b6', 'g1') : 7\n",
      "('b6', 'd2') : 8\n",
      "('a2', 'b6') : 9\n",
      "('a4', 'f4') : 5\n",
      "('d2', 'f4') : 5\n",
      "('f4', 'g1') : 5\n",
      "('d1', 'f4') : 6\n",
      "('f4', 'g4') : 6\n",
      "('f4', 'g2') : 7\n",
      "('d3', 'f4', 'g2') : 5\n",
      "('d3', 'f4') : 9\n",
      "('a1', 'g4') : 5\n",
      "('a1', 'd2') : 8\n",
      "('a1', 'd1') : 9\n",
      "('a4', 'd2') : 5\n",
      "('a4', 'g1') : 5\n",
      "('a4', 'd1') : 7\n",
      "('a4', 'd3') : 9\n",
      "('a4', 'g2') : 10\n",
      "('a2', 'g4') : 5\n",
      "('a2', 'd2') : 5\n",
      "('a2', 'd1') : 7\n",
      "('a2', 'g2') : 8\n",
      "('a2', 'g1') : 10\n",
      "('a2', 'd3', 'g1') : 6\n",
      "('a2', 'd3') : 11\n",
      "('a3', 'g1') : 6\n",
      "('a3', 'g2') : 6\n",
      "('a3', 'd2', 'g2') : 5\n",
      "('a3', 'g4') : 8\n",
      "('a3', 'd3') : 9\n",
      "('a3', 'd2') : 11\n",
      "('d2', 'g4') : 7\n",
      "('d1', 'g4') : 8\n",
      "('d3', 'g4') : 11\n",
      "('d3', 'g2') : 9\n",
      "('d1', 'g2') : 10\n",
      "('d2', 'g2') : 10\n",
      "('d1', 'g1') : 8\n",
      "('d3', 'g1') : 9\n",
      "('d2', 'g1') : 13\n",
      "('d1',) : 32\n",
      "('d2',) : 33\n",
      "('d3',) : 35\n"
     ]
    }
   ],
   "source": [
    "patterns = pyfpgrowth.find_frequent_patterns(data, 5)\n",
    "for p,d in patterns.items():\n",
    "    print(p,\":\",d)"
   ]
  },
  {
   "cell_type": "code",
   "execution_count": 20,
   "metadata": {},
   "outputs": [
    {
     "name": "stdout",
     "output_type": "stream",
     "text": [
      "('b8',) => (('g1',), 0.7142857142857143)\n",
      "('c8',) => (('a1',), 0.625)\n",
      "('c3',) => (('d2',), 0.625)\n",
      "('d2',) => (('g1',), 0.3939393939393939)\n",
      "('f3',) => (('d2',), 0.6153846153846154)\n",
      "('d3',) => (('g1',), 0.2571428571428571)\n",
      "('d3', 'f6') => (('g4',), 0.8571428571428571)\n",
      "('d3', 'g4') => (('f6',), 0.5454545454545454)\n",
      "('f6', 'g4') => (('d3',), 0.8571428571428571)\n",
      "('a3', 'b1') => (('d2',), 0.7142857142857143)\n",
      "('a3', 'd2') => (('g2',), 0.45454545454545453)\n",
      "('b1', 'd2') => (('a3',), 0.7142857142857143)\n",
      "('d1',) => (('g1',), 0.25)\n",
      "('a1', 'd1') => (('g3',), 0.5555555555555556)\n",
      "('a1', 'g3') => (('d1',), 0.625)\n",
      "('d1', 'g3') => (('a1',), 0.8333333333333334)\n",
      "('a2', 'f7') => (('g1',), 0.7142857142857143)\n",
      "('a2', 'g1') => (('d3',), 0.6)\n",
      "('f7', 'g1') => (('a2',), 0.625)\n",
      "('d3', 'f4') => (('g2',), 0.5555555555555556)\n",
      "('d3', 'g2') => (('f4',), 0.5555555555555556)\n",
      "('f4', 'g2') => (('d3',), 0.7142857142857143)\n",
      "('a2', 'd3') => (('g1',), 0.5454545454545454)\n",
      "('d3', 'g1') => (('a2',), 0.6666666666666666)\n",
      "('a3', 'g2') => (('d2',), 0.8333333333333334)\n",
      "('d2', 'g2') => (('a3',), 0.5)\n"
     ]
    }
   ],
   "source": [
    "rules = pyfpgrowth.generate_association_rules(patterns, 0.2)\n",
    "for p,d in rules.items():\n",
    "    print(p,\"=>\",d)"
   ]
  },
  {
   "cell_type": "markdown",
   "metadata": {},
   "source": [
    "Apriori"
   ]
  },
  {
   "cell_type": "code",
   "execution_count": 21,
   "metadata": {},
   "outputs": [
    {
     "name": "stdout",
     "output_type": "stream",
     "text": [
      "Collecting efficient_apriori\n",
      "  Downloading efficient_apriori-1.1.1-py3-none-any.whl (14 kB)\n",
      "Installing collected packages: efficient-apriori\n",
      "Successfully installed efficient-apriori-1.1.1\n"
     ]
    }
   ],
   "source": [
    "!~/anaconda3/bin/pip install efficient_apriori"
   ]
  },
  {
   "cell_type": "code",
   "execution_count": 22,
   "metadata": {},
   "outputs": [],
   "source": [
    "from efficient_apriori import apriori"
   ]
  },
  {
   "cell_type": "code",
   "execution_count": 27,
   "metadata": {},
   "outputs": [],
   "source": [
    "itemsets, rules = apriori(data, min_support=0.1,  min_confidence=0.1)"
   ]
  },
  {
   "cell_type": "code",
   "execution_count": 28,
   "metadata": {},
   "outputs": [
    {
     "name": "stdout",
     "output_type": "stream",
     "text": [
      "('g4',)=>('d3',)\t0.11\t0.4230769230769231\t1.208791208791209\t1.126666664713778\n",
      "('d3',)=>('g4',)\t0.11\t0.3142857142857143\t1.208791208791209\t1.079166665092882\n",
      "('g2',)=>('a4',)\t0.1\t0.3448275862068966\t1.6420361247947455\t1.2057894718437951\n",
      "('a4',)=>('g2',)\t0.1\t0.47619047619047616\t1.6420361247947455\t1.3554545428668594\n",
      "('g2',)=>('d1',)\t0.1\t0.3448275862068966\t1.0775862068965518\t1.0378947352579502\n",
      "('d1',)=>('g2',)\t0.1\t0.3125\t1.0775862068965518\t1.0327272712251239\n",
      "('d3',)=>('a2',)\t0.11\t0.3142857142857143\t1.3664596273291925\t1.1229166650290798\n",
      "('a2',)=>('d3',)\t0.11\t0.4782608695652174\t1.3664596273291925\t1.2458333309454863\n",
      "('g1',)=>('a2',)\t0.1\t0.3333333333333333\t1.4492753623188406\t1.1549999982674999\n",
      "('a2',)=>('g1',)\t0.1\t0.43478260869565216\t1.4492753623188406\t1.238461536270414\n",
      "('d2',)=>('a3',)\t0.11\t0.3333333333333333\t1.3888888888888888\t1.13999999829\n",
      "('a3',)=>('d2',)\t0.11\t0.4583333333333333\t1.3888888888888888\t1.2369230746395263\n",
      "('g1',)=>('d2',)\t0.13\t0.43333333333333335\t1.3131313131313131\t1.1823529390899654\n",
      "('d2',)=>('g1',)\t0.13\t0.3939393939393939\t1.3131313131313131\t1.15499999809425\n",
      "('g2',)=>('d2',)\t0.1\t0.3448275862068966\t1.0449320794148382\t1.0226315773865096\n",
      "('d2',)=>('g2',)\t0.1\t0.30303030303030304\t1.0449320794148382\t1.0186956507123062\n"
     ]
    }
   ],
   "source": [
    "hasil = []\n",
    "for x in rules:\n",
    "    hasil.append([str(x.lhs)+\"=>\"+str(x.rhs),x.support,x.confidence,x.lift,x.conviction])\n",
    "    print(str(x.lhs)+\"=>\"+str(x.rhs),x.support,x.confidence,x.lift,x.conviction,sep=\"\\t\")"
   ]
  },
  {
   "cell_type": "code",
   "execution_count": null,
   "metadata": {},
   "outputs": [],
   "source": []
  }
 ],
 "metadata": {
  "kernelspec": {
   "display_name": "Python 3",
   "language": "python",
   "name": "python3"
  },
  "language_info": {
   "codemirror_mode": {
    "name": "ipython",
    "version": 3
   },
   "file_extension": ".py",
   "mimetype": "text/x-python",
   "name": "python",
   "nbconvert_exporter": "python",
   "pygments_lexer": "ipython3",
   "version": "3.8.5"
  }
 },
 "nbformat": 4,
 "nbformat_minor": 2
}
