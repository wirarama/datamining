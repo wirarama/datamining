d1 = ['a','b','c','d']
d2 = ['e','f','g','h']
d3 = ['i','j','k']


from random import randint


data = []
for i in range(100):
    data.append([d1[randint(0,len(d1)-1)],d2[randint(0,len(d2)-1)],d3[randint(0,len(d3)-1)]])


data


rule = [d1[randint(0,len(d1)-1)],d2[randint(0,len(d2)-1)],d3[randint(0,len(d3)-1)]]


rule


count = 0
scoret = 0
support = 0
for x in data:
    j = 0
    score = 0
    for x1 in x:
        if x1 == rule[j]:
            score+=1
        j+=1
    if score==2:
        print(x)
        support+=1
    scoret+=score


scoret


support



