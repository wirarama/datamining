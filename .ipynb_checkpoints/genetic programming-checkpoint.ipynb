{
 "cells": [
  {
   "cell_type": "code",
   "execution_count": 1,
   "id": "b0f8d415-540f-43d4-aa30-26073e185049",
   "metadata": {},
   "outputs": [],
   "source": [
    "d1 = ['a','b','c','d']\n",
    "d2 = ['e','f','g','h']\n",
    "d3 = ['i','j','k']"
   ]
  },
  {
   "cell_type": "code",
   "execution_count": 3,
   "id": "5dffb1ab-c097-4308-92b7-dd92f45a1047",
   "metadata": {},
   "outputs": [],
   "source": [
    "from random import randint"
   ]
  },
  {
   "cell_type": "code",
   "execution_count": 5,
   "id": "ae86afc7-f37b-447d-a5fc-0447467fff93",
   "metadata": {},
   "outputs": [],
   "source": [
    "data = []\n",
    "for i in range(100):\n",
    "    data.append([d1[randint(0,len(d1)-1)],d2[randint(0,len(d2)-1)],d3[randint(0,len(d3)-1)]])"
   ]
  },
  {
   "cell_type": "code",
   "execution_count": 7,
   "id": "cfec5aff-3f24-44c7-9107-54183f7af855",
   "metadata": {},
   "outputs": [
    {
     "data": {
      "text/plain": [
       "[['a', 'h', 'j'],\n",
       " ['c', 'h', 'k'],\n",
       " ['d', 'h', 'j'],\n",
       " ['c', 'e', 'k'],\n",
       " ['a', 'h', 'j'],\n",
       " ['c', 'e', 'i'],\n",
       " ['b', 'f', 'j'],\n",
       " ['b', 'g', 'i'],\n",
       " ['c', 'h', 'j'],\n",
       " ['b', 'h', 'k'],\n",
       " ['c', 'h', 'j'],\n",
       " ['a', 'h', 'k'],\n",
       " ['d', 'h', 'j'],\n",
       " ['c', 'h', 'k'],\n",
       " ['a', 'f', 'i'],\n",
       " ['c', 'h', 'i'],\n",
       " ['b', 'f', 'i'],\n",
       " ['b', 'e', 'k'],\n",
       " ['c', 'h', 'k'],\n",
       " ['d', 'e', 'k'],\n",
       " ['b', 'f', 'k'],\n",
       " ['c', 'e', 'j'],\n",
       " ['d', 'h', 'k'],\n",
       " ['d', 'h', 'k'],\n",
       " ['c', 'h', 'i'],\n",
       " ['d', 'e', 'i'],\n",
       " ['c', 'g', 'k'],\n",
       " ['b', 'h', 'i'],\n",
       " ['c', 'f', 'j'],\n",
       " ['b', 'e', 'j'],\n",
       " ['d', 'g', 'k'],\n",
       " ['b', 'h', 'i'],\n",
       " ['c', 'e', 'k'],\n",
       " ['c', 'e', 'j'],\n",
       " ['c', 'g', 'i'],\n",
       " ['b', 'e', 'j'],\n",
       " ['b', 'e', 'i'],\n",
       " ['c', 'g', 'k'],\n",
       " ['a', 'h', 'k'],\n",
       " ['d', 'g', 'i'],\n",
       " ['a', 'e', 'i'],\n",
       " ['d', 'h', 'k'],\n",
       " ['b', 'e', 'j'],\n",
       " ['b', 'h', 'k'],\n",
       " ['d', 'h', 'k'],\n",
       " ['c', 'e', 'j'],\n",
       " ['d', 'e', 'k'],\n",
       " ['b', 'g', 'i'],\n",
       " ['a', 'g', 'k'],\n",
       " ['b', 'e', 'j'],\n",
       " ['c', 'e', 'i'],\n",
       " ['a', 'h', 'k'],\n",
       " ['a', 'e', 'k'],\n",
       " ['c', 'h', 'j'],\n",
       " ['a', 'e', 'j'],\n",
       " ['d', 'f', 'j'],\n",
       " ['d', 'f', 'j'],\n",
       " ['b', 'e', 'i'],\n",
       " ['d', 'f', 'k'],\n",
       " ['c', 'h', 'i'],\n",
       " ['a', 'h', 'k'],\n",
       " ['d', 'g', 'i'],\n",
       " ['b', 'g', 'j'],\n",
       " ['a', 'g', 'k'],\n",
       " ['c', 'f', 'j'],\n",
       " ['c', 'e', 'i'],\n",
       " ['d', 'h', 'k'],\n",
       " ['c', 'e', 'k'],\n",
       " ['d', 'h', 'i'],\n",
       " ['a', 'f', 'j'],\n",
       " ['d', 'e', 'j'],\n",
       " ['a', 'g', 'k'],\n",
       " ['a', 'f', 'i'],\n",
       " ['d', 'h', 'k'],\n",
       " ['a', 'g', 'k'],\n",
       " ['d', 'e', 'i'],\n",
       " ['a', 'h', 'j'],\n",
       " ['d', 'h', 'k'],\n",
       " ['c', 'h', 'j'],\n",
       " ['a', 'e', 'k'],\n",
       " ['c', 'f', 'j'],\n",
       " ['b', 'h', 'j'],\n",
       " ['a', 'h', 'k'],\n",
       " ['c', 'h', 'k'],\n",
       " ['d', 'f', 'k'],\n",
       " ['b', 'h', 'i'],\n",
       " ['a', 'h', 'j'],\n",
       " ['b', 'e', 'k'],\n",
       " ['d', 'f', 'i'],\n",
       " ['b', 'f', 'j'],\n",
       " ['b', 'g', 'j'],\n",
       " ['c', 'f', 'i'],\n",
       " ['b', 'h', 'i'],\n",
       " ['b', 'e', 'i'],\n",
       " ['b', 'f', 'k'],\n",
       " ['a', 'g', 'j'],\n",
       " ['a', 'f', 'j'],\n",
       " ['d', 'e', 'j'],\n",
       " ['a', 'e', 'i'],\n",
       " ['c', 'e', 'k']]"
      ]
     },
     "execution_count": 7,
     "metadata": {},
     "output_type": "execute_result"
    }
   ],
   "source": [
    "data"
   ]
  },
  {
   "cell_type": "code",
   "execution_count": 9,
   "id": "45eb1f75-3846-4b54-8573-f554799d3d56",
   "metadata": {},
   "outputs": [],
   "source": [
    "rule = [d1[randint(0,len(d1)-1)],d2[randint(0,len(d2)-1)],d3[randint(0,len(d3)-1)]]"
   ]
  },
  {
   "cell_type": "code",
   "execution_count": 11,
   "id": "52bf88f5-316b-495a-8544-d4d46a7ca6c5",
   "metadata": {},
   "outputs": [
    {
     "data": {
      "text/plain": [
       "['c', 'g', 'j']"
      ]
     },
     "execution_count": 11,
     "metadata": {},
     "output_type": "execute_result"
    }
   ],
   "source": [
    "rule"
   ]
  },
  {
   "cell_type": "code",
   "execution_count": null,
   "id": "63098df8-1085-4e2a-bc04-58d1c2088020",
   "metadata": {},
   "outputs": [],
   "source": [
    "count = 0\n",
    "for x in data:\n",
    "    j = 0\n",
    "    score = 0\n",
    "    for x1 in x:\n",
    "        if x1 == rule[j]:\n",
    "            "
   ]
  }
 ],
 "metadata": {
  "kernelspec": {
   "display_name": "Python 3 (ipykernel)",
   "language": "python",
   "name": "python3"
  },
  "language_info": {
   "codemirror_mode": {
    "name": "ipython",
    "version": 3
   },
   "file_extension": ".py",
   "mimetype": "text/x-python",
   "name": "python",
   "nbconvert_exporter": "python",
   "pygments_lexer": "ipython3",
   "version": "3.11.9"
  }
 },
 "nbformat": 4,
 "nbformat_minor": 5
}
