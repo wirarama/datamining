{
 "cells": [
  {
   "cell_type": "code",
   "execution_count": 2,
   "metadata": {},
   "outputs": [
    {
     "name": "stdout",
     "output_type": "stream",
     "text": [
      "Requirement already satisfied: nltk in /Users/wirarama/opt/anaconda3/lib/python3.8/site-packages (3.5)\n",
      "Requirement already satisfied: joblib in /Users/wirarama/opt/anaconda3/lib/python3.8/site-packages (from nltk) (0.17.0)\n",
      "Requirement already satisfied: tqdm in /Users/wirarama/opt/anaconda3/lib/python3.8/site-packages (from nltk) (4.50.2)\n",
      "Requirement already satisfied: click in /Users/wirarama/opt/anaconda3/lib/python3.8/site-packages (from nltk) (7.1.2)\n",
      "Requirement already satisfied: regex in /Users/wirarama/opt/anaconda3/lib/python3.8/site-packages (from nltk) (2020.10.15)\n"
     ]
    }
   ],
   "source": [
    "!pip install nltk"
   ]
  },
  {
   "cell_type": "code",
   "execution_count": 3,
   "metadata": {},
   "outputs": [
    {
     "name": "stdout",
     "output_type": "stream",
     "text": [
      "showing info https://raw.githubusercontent.com/nltk/nltk_data/gh-pages/index.xml\n"
     ]
    },
    {
     "ename": "SystemExit",
     "evalue": "0",
     "output_type": "error",
     "traceback": [
      "An exception has occurred, use %tb to see the full traceback.\n",
      "\u001b[0;31mSystemExit\u001b[0m\u001b[0;31m:\u001b[0m 0\n"
     ]
    },
    {
     "name": "stderr",
     "output_type": "stream",
     "text": [
      "/Users/wirarama/opt/anaconda3/lib/python3.8/site-packages/IPython/core/interactiveshell.py:3426: UserWarning: To exit: use 'exit', 'quit', or Ctrl-D.\n",
      "  warn(\"To exit: use 'exit', 'quit', or Ctrl-D.\", stacklevel=1)\n"
     ]
    }
   ],
   "source": [
    "import nltk\n",
    "nltk.download()"
   ]
  },
  {
   "cell_type": "code",
   "execution_count": 2,
   "metadata": {},
   "outputs": [
    {
     "name": "stdout",
     "output_type": "stream",
     "text": [
      "Collecting mpld3\n",
      "  Downloading mpld3-0.5.5.tar.gz (1.0 MB)\n",
      "\u001b[K     |████████████████████████████████| 1.0 MB 1.7 MB/s eta 0:00:01\n",
      "\u001b[?25hRequirement already satisfied: jinja2 in /Users/wirarama/opt/anaconda3/lib/python3.8/site-packages (from mpld3) (2.11.2)\n",
      "Requirement already satisfied: matplotlib in /Users/wirarama/opt/anaconda3/lib/python3.8/site-packages (from mpld3) (3.3.2)\n",
      "Requirement already satisfied: MarkupSafe>=0.23 in /Users/wirarama/opt/anaconda3/lib/python3.8/site-packages (from jinja2->mpld3) (1.1.1)\n",
      "Requirement already satisfied: python-dateutil>=2.1 in /Users/wirarama/opt/anaconda3/lib/python3.8/site-packages (from matplotlib->mpld3) (2.8.1)\n",
      "Requirement already satisfied: pillow>=6.2.0 in /Users/wirarama/opt/anaconda3/lib/python3.8/site-packages (from matplotlib->mpld3) (8.0.1)\n",
      "Requirement already satisfied: kiwisolver>=1.0.1 in /Users/wirarama/opt/anaconda3/lib/python3.8/site-packages (from matplotlib->mpld3) (1.3.0)\n",
      "Requirement already satisfied: certifi>=2020.06.20 in /Users/wirarama/opt/anaconda3/lib/python3.8/site-packages (from matplotlib->mpld3) (2020.6.20)\n",
      "Requirement already satisfied: numpy>=1.15 in /Users/wirarama/opt/anaconda3/lib/python3.8/site-packages (from matplotlib->mpld3) (1.21.2)\n",
      "Requirement already satisfied: cycler>=0.10 in /Users/wirarama/opt/anaconda3/lib/python3.8/site-packages (from matplotlib->mpld3) (0.10.0)\n",
      "Requirement already satisfied: pyparsing!=2.0.4,!=2.1.2,!=2.1.6,>=2.0.3 in /Users/wirarama/opt/anaconda3/lib/python3.8/site-packages (from matplotlib->mpld3) (2.4.7)\n",
      "Requirement already satisfied: six>=1.5 in /Users/wirarama/opt/anaconda3/lib/python3.8/site-packages (from python-dateutil>=2.1->matplotlib->mpld3) (1.15.0)\n",
      "Building wheels for collected packages: mpld3\n",
      "  Building wheel for mpld3 (setup.py) ... \u001b[?25ldone\n",
      "\u001b[?25h  Created wheel for mpld3: filename=mpld3-0.5.5-py3-none-any.whl size=200885 sha256=808fa041e7250d5b72c146cb790c680cb476e39457ededbdb1507a4586a51f45\n",
      "  Stored in directory: /Users/wirarama/Library/Caches/pip/wheels/f3/62/17/5a58a3f9d3469ab204cf1d1e29510f39617e1a966db0493a21\n",
      "Successfully built mpld3\n",
      "Installing collected packages: mpld3\n",
      "Successfully installed mpld3-0.5.5\n"
     ]
    }
   ],
   "source": [
    "!pip install mpld3"
   ]
  },
  {
   "cell_type": "code",
   "execution_count": 3,
   "metadata": {},
   "outputs": [],
   "source": [
    "import numpy as np\n",
    "import pandas as pd\n",
    "import nltk\n",
    "import re\n",
    "import os\n",
    "import codecs\n",
    "from sklearn import feature_extraction\n",
    "import mpld3"
   ]
  },
  {
   "cell_type": "code",
   "execution_count": 5,
   "metadata": {},
   "outputs": [
    {
     "ename": "NameError",
     "evalue": "name 'titles' is not defined",
     "output_type": "error",
     "traceback": [
      "\u001b[0;31m---------------------------------------------------------------------------\u001b[0m",
      "\u001b[0;31mNameError\u001b[0m                                 Traceback (most recent call last)",
      "\u001b[0;32m<ipython-input-5-fee4618591d3>\u001b[0m in \u001b[0;36m<module>\u001b[0;34m\u001b[0m\n\u001b[0;32m----> 1\u001b[0;31m \u001b[0mprint\u001b[0m\u001b[0;34m(\u001b[0m\u001b[0mtitles\u001b[0m\u001b[0;34m[\u001b[0m\u001b[0;34m:\u001b[0m\u001b[0;36m10\u001b[0m\u001b[0;34m]\u001b[0m\u001b[0;34m)\u001b[0m \u001b[0;31m#first 10 titles\u001b[0m\u001b[0;34m\u001b[0m\u001b[0;34m\u001b[0m\u001b[0m\n\u001b[0m",
      "\u001b[0;31mNameError\u001b[0m: name 'titles' is not defined"
     ]
    }
   ],
   "source": [
    "print(titles[:10])"
   ]
  },
  {
   "cell_type": "code",
   "execution_count": null,
   "metadata": {},
   "outputs": [],
   "source": [
    "print(synopses[0][:200])"
   ]
  },
  {
   "cell_type": "code",
   "execution_count": null,
   "metadata": {},
   "outputs": [],
   "source": [
    "stopwords = nltk.corpus.stopwords.words('english')"
   ]
  }
 ],
 "metadata": {
  "kernelspec": {
   "display_name": "Python 3",
   "language": "python",
   "name": "python3"
  },
  "language_info": {
   "codemirror_mode": {
    "name": "ipython",
    "version": 3
   },
   "file_extension": ".py",
   "mimetype": "text/x-python",
   "name": "python",
   "nbconvert_exporter": "python",
   "pygments_lexer": "ipython3",
   "version": "3.8.5"
  }
 },
 "nbformat": 4,
 "nbformat_minor": 4
}
