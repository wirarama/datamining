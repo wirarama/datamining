{
 "cells": [
  {
   "cell_type": "code",
   "execution_count": 1,
   "id": "6a351777",
   "metadata": {
    "id": "6a351777"
   },
   "outputs": [],
   "source": [
    "import pandas as pd\n",
    "from random import randint,uniform"
   ]
  },
  {
   "cell_type": "code",
   "execution_count": null,
   "id": "8e886a70",
   "metadata": {
    "id": "8e886a70"
   },
   "outputs": [],
   "source": [
    "#from google.colab import drive\n",
    "#drive.mount('/content/drive')"
   ]
  },
  {
   "cell_type": "code",
   "execution_count": null,
   "id": "Kuw0RghyTn6o",
   "metadata": {
    "id": "Kuw0RghyTn6o"
   },
   "outputs": [],
   "source": [
    "#ambil data drive\n",
    "\n",
    "#import pandas as pd\n",
    "\n",
    "#df = pd.read_csv('/content/drive/My Drive/newtesis/out.csv')\n",
    "#print(df.head())"
   ]
  },
  {
   "cell_type": "code",
   "execution_count": 3,
   "id": "IHe8gSr8VNGZ",
   "metadata": {
    "colab": {
     "base_uri": "https://localhost:8080/"
    },
    "id": "IHe8gSr8VNGZ",
    "outputId": "ab9b8ae4-6133-4fbb-ab4e-fdf9540d390a"
   },
   "outputs": [
    {
     "name": "stdout",
     "output_type": "stream",
     "text": [
      "   Unnamed: 0  suhu udara  kelembaban udara  suhu tanah  kelembaban tanah  \\\n",
      "0           0       28.38                60       39.42               189   \n",
      "1           1       28.79                63       33.11               190   \n",
      "2           2       28.18                68       33.79               192   \n",
      "3           3       28.22                62       31.01               189   \n",
      "4           4       28.69                66       33.03               195   \n",
      "\n",
      "   cahaya  arus solar  arus aki  tegangan solar  tegangan aki         status  \n",
      "0   15204       0.233     0.167          104.61        100.22  mendung siram  \n",
      "1   15575       0.237     0.134          107.57        103.02  mendung siram  \n",
      "2   16759       0.243     0.168          104.16         97.05  mendung siram  \n",
      "3   15465       0.227     0.207          107.59        107.63  mendung siram  \n",
      "4   15353       0.226     0.127          103.07         94.29  mendung siram  \n"
     ]
    }
   ],
   "source": [
    "df = pd.read_csv('out.csv')\n",
    "\n",
    "# Melihat sekilas data untuk verifikasi\n",
    "print(df.head())"
   ]
  },
  {
   "cell_type": "code",
   "execution_count": null,
   "id": "6b989dd9",
   "metadata": {
    "colab": {
     "base_uri": "https://localhost:8080/",
     "height": 614
    },
    "id": "6b989dd9",
    "outputId": "0f810551-083b-4c83-c872-6fe676c31ccb"
   },
   "outputs": [],
   "source": [
    "df"
   ]
  },
  {
   "cell_type": "code",
   "execution_count": 5,
   "id": "b2ed7d92",
   "metadata": {
    "id": "b2ed7d92"
   },
   "outputs": [],
   "source": [
    "df = pd.read_csv(\"out.csv\") # diubah kenumerik\n",
    "dfcluster = df.drop('status', axis=1) #untuk clustering"
   ]
  },
  {
   "cell_type": "code",
   "execution_count": null,
   "id": "7790883b",
   "metadata": {
    "colab": {
     "base_uri": "https://localhost:8080/",
     "height": 441
    },
    "id": "7790883b",
    "outputId": "6437ab21-2e54-470f-9df7-6b3e5d07c677"
   },
   "outputs": [],
   "source": [
    "dfcluster"
   ]
  },
  {
   "cell_type": "code",
   "execution_count": 7,
   "id": "N5_6XbJrT32S",
   "metadata": {
    "id": "N5_6XbJrT32S"
   },
   "outputs": [],
   "source": [
    "df = df.drop (['arus aki', 'tegangan aki', 'arus solar', 'tegangan solar', 'Unnamed: 0'],axis=1)"
   ]
  },
  {
   "cell_type": "code",
   "execution_count": 9,
   "id": "v_94WVdPVhyR",
   "metadata": {
    "id": "v_94WVdPVhyR"
   },
   "outputs": [],
   "source": [
    "dfcluster = dfcluster.drop (['arus aki', 'tegangan aki', 'arus solar', 'tegangan solar', 'Unnamed: 0'],axis=1)"
   ]
  },
  {
   "cell_type": "code",
   "execution_count": 11,
   "id": "5d315f7c",
   "metadata": {
    "id": "5d315f7c"
   },
   "outputs": [],
   "source": [
    "from sklearn.cluster import KMeans\n",
    "from sklearn.metrics import silhouette_score"
   ]
  },
  {
   "cell_type": "code",
   "execution_count": 13,
   "id": "3e50ec08",
   "metadata": {
    "colab": {
     "base_uri": "https://localhost:8080/",
     "height": 80
    },
    "id": "3e50ec08",
    "outputId": "a6942175-acb2-4053-8d4a-904362969826"
   },
   "outputs": [
    {
     "data": {
      "text/html": [
       "<style>#sk-container-id-1 {\n",
       "  /* Definition of color scheme common for light and dark mode */\n",
       "  --sklearn-color-text: black;\n",
       "  --sklearn-color-line: gray;\n",
       "  /* Definition of color scheme for unfitted estimators */\n",
       "  --sklearn-color-unfitted-level-0: #fff5e6;\n",
       "  --sklearn-color-unfitted-level-1: #f6e4d2;\n",
       "  --sklearn-color-unfitted-level-2: #ffe0b3;\n",
       "  --sklearn-color-unfitted-level-3: chocolate;\n",
       "  /* Definition of color scheme for fitted estimators */\n",
       "  --sklearn-color-fitted-level-0: #f0f8ff;\n",
       "  --sklearn-color-fitted-level-1: #d4ebff;\n",
       "  --sklearn-color-fitted-level-2: #b3dbfd;\n",
       "  --sklearn-color-fitted-level-3: cornflowerblue;\n",
       "\n",
       "  /* Specific color for light theme */\n",
       "  --sklearn-color-text-on-default-background: var(--sg-text-color, var(--theme-code-foreground, var(--jp-content-font-color1, black)));\n",
       "  --sklearn-color-background: var(--sg-background-color, var(--theme-background, var(--jp-layout-color0, white)));\n",
       "  --sklearn-color-border-box: var(--sg-text-color, var(--theme-code-foreground, var(--jp-content-font-color1, black)));\n",
       "  --sklearn-color-icon: #696969;\n",
       "\n",
       "  @media (prefers-color-scheme: dark) {\n",
       "    /* Redefinition of color scheme for dark theme */\n",
       "    --sklearn-color-text-on-default-background: var(--sg-text-color, var(--theme-code-foreground, var(--jp-content-font-color1, white)));\n",
       "    --sklearn-color-background: var(--sg-background-color, var(--theme-background, var(--jp-layout-color0, #111)));\n",
       "    --sklearn-color-border-box: var(--sg-text-color, var(--theme-code-foreground, var(--jp-content-font-color1, white)));\n",
       "    --sklearn-color-icon: #878787;\n",
       "  }\n",
       "}\n",
       "\n",
       "#sk-container-id-1 {\n",
       "  color: var(--sklearn-color-text);\n",
       "}\n",
       "\n",
       "#sk-container-id-1 pre {\n",
       "  padding: 0;\n",
       "}\n",
       "\n",
       "#sk-container-id-1 input.sk-hidden--visually {\n",
       "  border: 0;\n",
       "  clip: rect(1px 1px 1px 1px);\n",
       "  clip: rect(1px, 1px, 1px, 1px);\n",
       "  height: 1px;\n",
       "  margin: -1px;\n",
       "  overflow: hidden;\n",
       "  padding: 0;\n",
       "  position: absolute;\n",
       "  width: 1px;\n",
       "}\n",
       "\n",
       "#sk-container-id-1 div.sk-dashed-wrapped {\n",
       "  border: 1px dashed var(--sklearn-color-line);\n",
       "  margin: 0 0.4em 0.5em 0.4em;\n",
       "  box-sizing: border-box;\n",
       "  padding-bottom: 0.4em;\n",
       "  background-color: var(--sklearn-color-background);\n",
       "}\n",
       "\n",
       "#sk-container-id-1 div.sk-container {\n",
       "  /* jupyter's `normalize.less` sets `[hidden] { display: none; }`\n",
       "     but bootstrap.min.css set `[hidden] { display: none !important; }`\n",
       "     so we also need the `!important` here to be able to override the\n",
       "     default hidden behavior on the sphinx rendered scikit-learn.org.\n",
       "     See: https://github.com/scikit-learn/scikit-learn/issues/21755 */\n",
       "  display: inline-block !important;\n",
       "  position: relative;\n",
       "}\n",
       "\n",
       "#sk-container-id-1 div.sk-text-repr-fallback {\n",
       "  display: none;\n",
       "}\n",
       "\n",
       "div.sk-parallel-item,\n",
       "div.sk-serial,\n",
       "div.sk-item {\n",
       "  /* draw centered vertical line to link estimators */\n",
       "  background-image: linear-gradient(var(--sklearn-color-text-on-default-background), var(--sklearn-color-text-on-default-background));\n",
       "  background-size: 2px 100%;\n",
       "  background-repeat: no-repeat;\n",
       "  background-position: center center;\n",
       "}\n",
       "\n",
       "/* Parallel-specific style estimator block */\n",
       "\n",
       "#sk-container-id-1 div.sk-parallel-item::after {\n",
       "  content: \"\";\n",
       "  width: 100%;\n",
       "  border-bottom: 2px solid var(--sklearn-color-text-on-default-background);\n",
       "  flex-grow: 1;\n",
       "}\n",
       "\n",
       "#sk-container-id-1 div.sk-parallel {\n",
       "  display: flex;\n",
       "  align-items: stretch;\n",
       "  justify-content: center;\n",
       "  background-color: var(--sklearn-color-background);\n",
       "  position: relative;\n",
       "}\n",
       "\n",
       "#sk-container-id-1 div.sk-parallel-item {\n",
       "  display: flex;\n",
       "  flex-direction: column;\n",
       "}\n",
       "\n",
       "#sk-container-id-1 div.sk-parallel-item:first-child::after {\n",
       "  align-self: flex-end;\n",
       "  width: 50%;\n",
       "}\n",
       "\n",
       "#sk-container-id-1 div.sk-parallel-item:last-child::after {\n",
       "  align-self: flex-start;\n",
       "  width: 50%;\n",
       "}\n",
       "\n",
       "#sk-container-id-1 div.sk-parallel-item:only-child::after {\n",
       "  width: 0;\n",
       "}\n",
       "\n",
       "/* Serial-specific style estimator block */\n",
       "\n",
       "#sk-container-id-1 div.sk-serial {\n",
       "  display: flex;\n",
       "  flex-direction: column;\n",
       "  align-items: center;\n",
       "  background-color: var(--sklearn-color-background);\n",
       "  padding-right: 1em;\n",
       "  padding-left: 1em;\n",
       "}\n",
       "\n",
       "\n",
       "/* Toggleable style: style used for estimator/Pipeline/ColumnTransformer box that is\n",
       "clickable and can be expanded/collapsed.\n",
       "- Pipeline and ColumnTransformer use this feature and define the default style\n",
       "- Estimators will overwrite some part of the style using the `sk-estimator` class\n",
       "*/\n",
       "\n",
       "/* Pipeline and ColumnTransformer style (default) */\n",
       "\n",
       "#sk-container-id-1 div.sk-toggleable {\n",
       "  /* Default theme specific background. It is overwritten whether we have a\n",
       "  specific estimator or a Pipeline/ColumnTransformer */\n",
       "  background-color: var(--sklearn-color-background);\n",
       "}\n",
       "\n",
       "/* Toggleable label */\n",
       "#sk-container-id-1 label.sk-toggleable__label {\n",
       "  cursor: pointer;\n",
       "  display: block;\n",
       "  width: 100%;\n",
       "  margin-bottom: 0;\n",
       "  padding: 0.5em;\n",
       "  box-sizing: border-box;\n",
       "  text-align: center;\n",
       "}\n",
       "\n",
       "#sk-container-id-1 label.sk-toggleable__label-arrow:before {\n",
       "  /* Arrow on the left of the label */\n",
       "  content: \"▸\";\n",
       "  float: left;\n",
       "  margin-right: 0.25em;\n",
       "  color: var(--sklearn-color-icon);\n",
       "}\n",
       "\n",
       "#sk-container-id-1 label.sk-toggleable__label-arrow:hover:before {\n",
       "  color: var(--sklearn-color-text);\n",
       "}\n",
       "\n",
       "/* Toggleable content - dropdown */\n",
       "\n",
       "#sk-container-id-1 div.sk-toggleable__content {\n",
       "  max-height: 0;\n",
       "  max-width: 0;\n",
       "  overflow: hidden;\n",
       "  text-align: left;\n",
       "  /* unfitted */\n",
       "  background-color: var(--sklearn-color-unfitted-level-0);\n",
       "}\n",
       "\n",
       "#sk-container-id-1 div.sk-toggleable__content.fitted {\n",
       "  /* fitted */\n",
       "  background-color: var(--sklearn-color-fitted-level-0);\n",
       "}\n",
       "\n",
       "#sk-container-id-1 div.sk-toggleable__content pre {\n",
       "  margin: 0.2em;\n",
       "  border-radius: 0.25em;\n",
       "  color: var(--sklearn-color-text);\n",
       "  /* unfitted */\n",
       "  background-color: var(--sklearn-color-unfitted-level-0);\n",
       "}\n",
       "\n",
       "#sk-container-id-1 div.sk-toggleable__content.fitted pre {\n",
       "  /* unfitted */\n",
       "  background-color: var(--sklearn-color-fitted-level-0);\n",
       "}\n",
       "\n",
       "#sk-container-id-1 input.sk-toggleable__control:checked~div.sk-toggleable__content {\n",
       "  /* Expand drop-down */\n",
       "  max-height: 200px;\n",
       "  max-width: 100%;\n",
       "  overflow: auto;\n",
       "}\n",
       "\n",
       "#sk-container-id-1 input.sk-toggleable__control:checked~label.sk-toggleable__label-arrow:before {\n",
       "  content: \"▾\";\n",
       "}\n",
       "\n",
       "/* Pipeline/ColumnTransformer-specific style */\n",
       "\n",
       "#sk-container-id-1 div.sk-label input.sk-toggleable__control:checked~label.sk-toggleable__label {\n",
       "  color: var(--sklearn-color-text);\n",
       "  background-color: var(--sklearn-color-unfitted-level-2);\n",
       "}\n",
       "\n",
       "#sk-container-id-1 div.sk-label.fitted input.sk-toggleable__control:checked~label.sk-toggleable__label {\n",
       "  background-color: var(--sklearn-color-fitted-level-2);\n",
       "}\n",
       "\n",
       "/* Estimator-specific style */\n",
       "\n",
       "/* Colorize estimator box */\n",
       "#sk-container-id-1 div.sk-estimator input.sk-toggleable__control:checked~label.sk-toggleable__label {\n",
       "  /* unfitted */\n",
       "  background-color: var(--sklearn-color-unfitted-level-2);\n",
       "}\n",
       "\n",
       "#sk-container-id-1 div.sk-estimator.fitted input.sk-toggleable__control:checked~label.sk-toggleable__label {\n",
       "  /* fitted */\n",
       "  background-color: var(--sklearn-color-fitted-level-2);\n",
       "}\n",
       "\n",
       "#sk-container-id-1 div.sk-label label.sk-toggleable__label,\n",
       "#sk-container-id-1 div.sk-label label {\n",
       "  /* The background is the default theme color */\n",
       "  color: var(--sklearn-color-text-on-default-background);\n",
       "}\n",
       "\n",
       "/* On hover, darken the color of the background */\n",
       "#sk-container-id-1 div.sk-label:hover label.sk-toggleable__label {\n",
       "  color: var(--sklearn-color-text);\n",
       "  background-color: var(--sklearn-color-unfitted-level-2);\n",
       "}\n",
       "\n",
       "/* Label box, darken color on hover, fitted */\n",
       "#sk-container-id-1 div.sk-label.fitted:hover label.sk-toggleable__label.fitted {\n",
       "  color: var(--sklearn-color-text);\n",
       "  background-color: var(--sklearn-color-fitted-level-2);\n",
       "}\n",
       "\n",
       "/* Estimator label */\n",
       "\n",
       "#sk-container-id-1 div.sk-label label {\n",
       "  font-family: monospace;\n",
       "  font-weight: bold;\n",
       "  display: inline-block;\n",
       "  line-height: 1.2em;\n",
       "}\n",
       "\n",
       "#sk-container-id-1 div.sk-label-container {\n",
       "  text-align: center;\n",
       "}\n",
       "\n",
       "/* Estimator-specific */\n",
       "#sk-container-id-1 div.sk-estimator {\n",
       "  font-family: monospace;\n",
       "  border: 1px dotted var(--sklearn-color-border-box);\n",
       "  border-radius: 0.25em;\n",
       "  box-sizing: border-box;\n",
       "  margin-bottom: 0.5em;\n",
       "  /* unfitted */\n",
       "  background-color: var(--sklearn-color-unfitted-level-0);\n",
       "}\n",
       "\n",
       "#sk-container-id-1 div.sk-estimator.fitted {\n",
       "  /* fitted */\n",
       "  background-color: var(--sklearn-color-fitted-level-0);\n",
       "}\n",
       "\n",
       "/* on hover */\n",
       "#sk-container-id-1 div.sk-estimator:hover {\n",
       "  /* unfitted */\n",
       "  background-color: var(--sklearn-color-unfitted-level-2);\n",
       "}\n",
       "\n",
       "#sk-container-id-1 div.sk-estimator.fitted:hover {\n",
       "  /* fitted */\n",
       "  background-color: var(--sklearn-color-fitted-level-2);\n",
       "}\n",
       "\n",
       "/* Specification for estimator info (e.g. \"i\" and \"?\") */\n",
       "\n",
       "/* Common style for \"i\" and \"?\" */\n",
       "\n",
       ".sk-estimator-doc-link,\n",
       "a:link.sk-estimator-doc-link,\n",
       "a:visited.sk-estimator-doc-link {\n",
       "  float: right;\n",
       "  font-size: smaller;\n",
       "  line-height: 1em;\n",
       "  font-family: monospace;\n",
       "  background-color: var(--sklearn-color-background);\n",
       "  border-radius: 1em;\n",
       "  height: 1em;\n",
       "  width: 1em;\n",
       "  text-decoration: none !important;\n",
       "  margin-left: 1ex;\n",
       "  /* unfitted */\n",
       "  border: var(--sklearn-color-unfitted-level-1) 1pt solid;\n",
       "  color: var(--sklearn-color-unfitted-level-1);\n",
       "}\n",
       "\n",
       ".sk-estimator-doc-link.fitted,\n",
       "a:link.sk-estimator-doc-link.fitted,\n",
       "a:visited.sk-estimator-doc-link.fitted {\n",
       "  /* fitted */\n",
       "  border: var(--sklearn-color-fitted-level-1) 1pt solid;\n",
       "  color: var(--sklearn-color-fitted-level-1);\n",
       "}\n",
       "\n",
       "/* On hover */\n",
       "div.sk-estimator:hover .sk-estimator-doc-link:hover,\n",
       ".sk-estimator-doc-link:hover,\n",
       "div.sk-label-container:hover .sk-estimator-doc-link:hover,\n",
       ".sk-estimator-doc-link:hover {\n",
       "  /* unfitted */\n",
       "  background-color: var(--sklearn-color-unfitted-level-3);\n",
       "  color: var(--sklearn-color-background);\n",
       "  text-decoration: none;\n",
       "}\n",
       "\n",
       "div.sk-estimator.fitted:hover .sk-estimator-doc-link.fitted:hover,\n",
       ".sk-estimator-doc-link.fitted:hover,\n",
       "div.sk-label-container:hover .sk-estimator-doc-link.fitted:hover,\n",
       ".sk-estimator-doc-link.fitted:hover {\n",
       "  /* fitted */\n",
       "  background-color: var(--sklearn-color-fitted-level-3);\n",
       "  color: var(--sklearn-color-background);\n",
       "  text-decoration: none;\n",
       "}\n",
       "\n",
       "/* Span, style for the box shown on hovering the info icon */\n",
       ".sk-estimator-doc-link span {\n",
       "  display: none;\n",
       "  z-index: 9999;\n",
       "  position: relative;\n",
       "  font-weight: normal;\n",
       "  right: .2ex;\n",
       "  padding: .5ex;\n",
       "  margin: .5ex;\n",
       "  width: min-content;\n",
       "  min-width: 20ex;\n",
       "  max-width: 50ex;\n",
       "  color: var(--sklearn-color-text);\n",
       "  box-shadow: 2pt 2pt 4pt #999;\n",
       "  /* unfitted */\n",
       "  background: var(--sklearn-color-unfitted-level-0);\n",
       "  border: .5pt solid var(--sklearn-color-unfitted-level-3);\n",
       "}\n",
       "\n",
       ".sk-estimator-doc-link.fitted span {\n",
       "  /* fitted */\n",
       "  background: var(--sklearn-color-fitted-level-0);\n",
       "  border: var(--sklearn-color-fitted-level-3);\n",
       "}\n",
       "\n",
       ".sk-estimator-doc-link:hover span {\n",
       "  display: block;\n",
       "}\n",
       "\n",
       "/* \"?\"-specific style due to the `<a>` HTML tag */\n",
       "\n",
       "#sk-container-id-1 a.estimator_doc_link {\n",
       "  float: right;\n",
       "  font-size: 1rem;\n",
       "  line-height: 1em;\n",
       "  font-family: monospace;\n",
       "  background-color: var(--sklearn-color-background);\n",
       "  border-radius: 1rem;\n",
       "  height: 1rem;\n",
       "  width: 1rem;\n",
       "  text-decoration: none;\n",
       "  /* unfitted */\n",
       "  color: var(--sklearn-color-unfitted-level-1);\n",
       "  border: var(--sklearn-color-unfitted-level-1) 1pt solid;\n",
       "}\n",
       "\n",
       "#sk-container-id-1 a.estimator_doc_link.fitted {\n",
       "  /* fitted */\n",
       "  border: var(--sklearn-color-fitted-level-1) 1pt solid;\n",
       "  color: var(--sklearn-color-fitted-level-1);\n",
       "}\n",
       "\n",
       "/* On hover */\n",
       "#sk-container-id-1 a.estimator_doc_link:hover {\n",
       "  /* unfitted */\n",
       "  background-color: var(--sklearn-color-unfitted-level-3);\n",
       "  color: var(--sklearn-color-background);\n",
       "  text-decoration: none;\n",
       "}\n",
       "\n",
       "#sk-container-id-1 a.estimator_doc_link.fitted:hover {\n",
       "  /* fitted */\n",
       "  background-color: var(--sklearn-color-fitted-level-3);\n",
       "}\n",
       "</style><div id=\"sk-container-id-1\" class=\"sk-top-container\"><div class=\"sk-text-repr-fallback\"><pre>KMeans(n_clusters=4)</pre><b>In a Jupyter environment, please rerun this cell to show the HTML representation or trust the notebook. <br />On GitHub, the HTML representation is unable to render, please try loading this page with nbviewer.org.</b></div><div class=\"sk-container\" hidden><div class=\"sk-item\"><div class=\"sk-estimator fitted sk-toggleable\"><input class=\"sk-toggleable__control sk-hidden--visually\" id=\"sk-estimator-id-1\" type=\"checkbox\" checked><label for=\"sk-estimator-id-1\" class=\"sk-toggleable__label fitted sk-toggleable__label-arrow fitted\">&nbsp;&nbsp;KMeans<a class=\"sk-estimator-doc-link fitted\" rel=\"noreferrer\" target=\"_blank\" href=\"https://scikit-learn.org/1.4/modules/generated/sklearn.cluster.KMeans.html\">?<span>Documentation for KMeans</span></a><span class=\"sk-estimator-doc-link fitted\">i<span>Fitted</span></span></label><div class=\"sk-toggleable__content fitted\"><pre>KMeans(n_clusters=4)</pre></div> </div></div></div></div>"
      ],
      "text/plain": [
       "KMeans(n_clusters=4)"
      ]
     },
     "execution_count": 13,
     "metadata": {},
     "output_type": "execute_result"
    }
   ],
   "source": [
    "kmeans = KMeans(n_clusters=4)\n",
    "kmeans.fit(dfcluster[['suhu udara','kelembaban udara','suhu tanah','kelembaban tanah','cahaya']])"
   ]
  },
  {
   "cell_type": "code",
   "execution_count": null,
   "id": "d249bc13",
   "metadata": {
    "colab": {
     "base_uri": "https://localhost:8080/"
    },
    "id": "d249bc13",
    "outputId": "9763854e-7eaf-4ab5-a21a-a31c50d04e81"
   },
   "outputs": [],
   "source": [
    "print(kmeans.cluster_centers_)"
   ]
  },
  {
   "cell_type": "code",
   "execution_count": null,
   "id": "650ef161",
   "metadata": {
    "colab": {
     "base_uri": "https://localhost:8080/"
    },
    "id": "650ef161",
    "outputId": "017d9a94-05fa-4e99-efdb-6fd1906c8ffb"
   },
   "outputs": [],
   "source": [
    "print(list(kmeans.labels_))"
   ]
  },
  {
   "cell_type": "code",
   "execution_count": null,
   "id": "2cd613d9",
   "metadata": {
    "colab": {
     "base_uri": "https://localhost:8080/"
    },
    "id": "2cd613d9",
    "outputId": "389293dd-e3cb-43cb-f42b-acf575530c1a"
   },
   "outputs": [],
   "source": [
    "print(list(df['status']))"
   ]
  },
  {
   "cell_type": "code",
   "execution_count": null,
   "id": "PVn_RzAkaAnS",
   "metadata": {
    "colab": {
     "base_uri": "https://localhost:8080/"
    },
    "id": "PVn_RzAkaAnS",
    "outputId": "3f46522a-a824-4d99-ba05-abf7821aadcb"
   },
   "outputs": [],
   "source": [
    "df['status'].unique()"
   ]
  },
  {
   "cell_type": "markdown",
   "id": "fc1STDHUhNZK",
   "metadata": {
    "id": "fc1STDHUhNZK"
   },
   "source": [
    "ubah status"
   ]
  },
  {
   "cell_type": "code",
   "execution_count": 15,
   "id": "EBw98MoQgSEF",
   "metadata": {
    "id": "EBw98MoQgSEF"
   },
   "outputs": [],
   "source": [
    "import pandas as pd\n",
    "from sklearn.preprocessing import LabelEncoder\n",
    "\n",
    "# Membuat objek LabelEncoder\n",
    "le = LabelEncoder()\n",
    "\n",
    "# Melakukan fit_transform pada kolom 'status'\n",
    "df['status_encod'] = le.fit_transform(df['status'])"
   ]
  },
  {
   "cell_type": "code",
   "execution_count": 29,
   "id": "b7fa346b",
   "metadata": {
    "colab": {
     "base_uri": "https://localhost:8080/"
    },
    "id": "b7fa346b",
    "outputId": "39249cb3-fe9d-4096-886a-c824964961ec"
   },
   "outputs": [
    {
     "name": "stdout",
     "output_type": "stream",
     "text": [
      "0 0 53774.43947242073 53774.43947242073\n",
      "0 1 53759.11747242074 53759.11747242074\n",
      "0 2 15351.20956796278 15351.20956796278\n",
      "0 3 15359.537072420733 15351.20956796278\n",
      "1 0 53771.34785519716 53771.34785519716\n",
      "1 1 53756.025855197164 53756.025855197164\n",
      "1 2 15348.117950739204 15348.117950739204\n",
      "1 3 15356.445455197158 15348.117950739204\n",
      "2 0 53771.34701491581 53771.34701491581\n",
      "2 1 53756.02501491582 53756.02501491582\n",
      "2 2 15348.117110457855 15348.117110457855\n",
      "2 3 15356.444614915808 15348.117110457855\n",
      "3 0 53771.33045150447 53771.33045150447\n",
      "3 1 53756.00845150448 53756.00845150448\n",
      "3 2 15348.100547046524 15348.100547046524\n",
      "3 3 15356.428051504477 15348.100547046524\n",
      "[2, 2, 2, 2]\n"
     ]
    }
   ],
   "source": [
    "penyesuaian = [x for x in range(4)]\n",
    "for i in range(4):\n",
    "    dekat = 1000000\n",
    "    for j in range(4):\n",
    "        dekat1 = abs(kmeans.cluster_centers_[i][0] - df.loc[df['status_encod'] == j, 'cahaya'].describe().loc['mean'])\n",
    "        if dekat>dekat1:\n",
    "            penyesuaian[i]=j\n",
    "            dekat = dekat1\n",
    "        print(i,j,dekat1,dekat)\n",
    "print(penyesuaian)"
   ]
  },
  {
   "cell_type": "code",
   "execution_count": 31,
   "id": "afcc4897",
   "metadata": {
    "id": "afcc4897"
   },
   "outputs": [],
   "source": [
    "label_hasil_clustering = []\n",
    "for x in list(kmeans.labels_):\n",
    "    label_hasil_clustering.append(penyesuaian[x])"
   ]
  },
  {
   "cell_type": "code",
   "execution_count": null,
   "id": "a8e57aeb",
   "metadata": {
    "colab": {
     "base_uri": "https://localhost:8080/"
    },
    "id": "a8e57aeb",
    "outputId": "5b54c57d-e3f1-44b2-b0a6-65add64a585f"
   },
   "outputs": [],
   "source": [
    "print(label_hasil_clustering)\n",
    "print(list(df['status_encod']))"
   ]
  },
  {
   "cell_type": "code",
   "execution_count": 35,
   "id": "9943c36c",
   "metadata": {
    "colab": {
     "base_uri": "https://localhost:8080/"
    },
    "id": "9943c36c",
    "outputId": "4731063b-bf47-475a-aa6a-e11f7d626c95"
   },
   "outputs": [
    {
     "name": "stdout",
     "output_type": "stream",
     "text": [
      "50000\n",
      "9870\n"
     ]
    }
   ],
   "source": [
    "dataasli = df.values\n",
    "databarujelek = []\n",
    "databarubagus = []\n",
    "salah = 0\n",
    "label_asli = list(df['status_encod'])\n",
    "for i in range(len(label_hasil_clustering)):\n",
    "    if label_hasil_clustering[i] != label_asli[i]:\n",
    "        databarujelek.append(i)\n",
    "        salah += 1\n",
    "    else:\n",
    "        databarubagus.append(i)\n",
    "\n",
    "print(salah)\n",
    "print(59870-salah)"
   ]
  },
  {
   "cell_type": "markdown",
   "id": "888b1650",
   "metadata": {
    "id": "888b1650"
   },
   "source": [
    "logika cocokkan label hasil clustering dan klasifikasi\n",
    "1. dicetak diskripsi data masing2 label (klastering dan klasifikasi)\n",
    "2. dicari yang terdekat min max dan means\n",
    "3. yang terdekat = label itu"
   ]
  },
  {
   "cell_type": "code",
   "execution_count": null,
   "id": "3862fa6a",
   "metadata": {
    "colab": {
     "base_uri": "https://localhost:8080/"
    },
    "id": "3862fa6a",
    "outputId": "24cc8abd-40ba-4b9a-ae0f-fa6ffac36b22"
   },
   "outputs": [],
   "source": [
    "data_barubagus = df.iloc[databarubagus]\n",
    "print(data_barubagus.describe())"
   ]
  },
  {
   "cell_type": "code",
   "execution_count": null,
   "id": "FvJ4rcl4ia2f",
   "metadata": {
    "id": "FvJ4rcl4ia2f"
   },
   "outputs": [],
   "source": []
  },
  {
   "cell_type": "code",
   "execution_count": null,
   "id": "fuAwNqMvhHJR",
   "metadata": {
    "id": "fuAwNqMvhHJR"
   },
   "outputs": [],
   "source": [
    "#data = data_barubagus[['suhu udara','kelembaban udara','suhu tanah','kelembaban tanah','cahaya']].to_numpy()"
   ]
  },
  {
   "cell_type": "code",
   "execution_count": null,
   "id": "AR9NA6pCivvu",
   "metadata": {
    "id": "AR9NA6pCivvu"
   },
   "outputs": [],
   "source": [
    "#label = data_barubagus['status_encod'].to_numpy()"
   ]
  },
  {
   "cell_type": "code",
   "execution_count": null,
   "id": "j8WtcVbZkET5",
   "metadata": {
    "id": "j8WtcVbZkET5"
   },
   "outputs": [],
   "source": [
    "data = df[['suhu udara','kelembaban udara','suhu tanah','kelembaban tanah','cahaya']].to_numpy()\n",
    "label = df['status_encod'].to_numpy()"
   ]
  },
  {
   "cell_type": "code",
   "execution_count": null,
   "id": "UyensVjwi2HW",
   "metadata": {
    "id": "UyensVjwi2HW"
   },
   "outputs": [],
   "source": [
    "from sklearn.model_selection import train_test_split\n",
    "train_x, test_x, train_y, test_y = train_test_split(data, label, test_size=0.10, random_state=42)"
   ]
  },
  {
   "cell_type": "code",
   "execution_count": null,
   "id": "S-E9kOI0j50-",
   "metadata": {
    "colab": {
     "base_uri": "https://localhost:8080/"
    },
    "id": "S-E9kOI0j50-",
    "outputId": "90a62129-898b-4985-f614-0a8bb4a4066d"
   },
   "outputs": [],
   "source": [
    "print(df['status_encod'].unique())"
   ]
  },
  {
   "cell_type": "code",
   "execution_count": null,
   "id": "InlRpgUEi2WZ",
   "metadata": {
    "colab": {
     "base_uri": "https://localhost:8080/",
     "height": 80
    },
    "id": "InlRpgUEi2WZ",
    "outputId": "9375ddf9-0e88-49af-c02f-1a30a6003487"
   },
   "outputs": [],
   "source": [
    "from sklearn import svm\n",
    "clf = svm.SVC(gamma='scale')\n",
    "clf.fit(train_x,train_y)"
   ]
  },
  {
   "cell_type": "code",
   "execution_count": null,
   "id": "kGI4Dcrei6W3",
   "metadata": {
    "colab": {
     "base_uri": "https://localhost:8080/"
    },
    "id": "kGI4Dcrei6W3",
    "outputId": "f5234a7d-e415-4567-88a9-d1332e9b4794"
   },
   "outputs": [],
   "source": [
    "pred_y = clf.predict(test_x)\n",
    "from sklearn.metrics import accuracy_score\n",
    "score = accuracy_score(test_y,pred_y)\n",
    "print(score)"
   ]
  },
  {
   "cell_type": "code",
   "execution_count": null,
   "id": "VU65ObTajGIw",
   "metadata": {
    "colab": {
     "base_uri": "https://localhost:8080/"
    },
    "id": "VU65ObTajGIw",
    "outputId": "887943e0-b8b7-499d-e9ce-8a45754cfa89"
   },
   "outputs": [],
   "source": [
    "from sklearn.metrics import accuracy_score, classification_report, confusion_matrix\n",
    "\n",
    "print(\"Accuracy:\", accuracy_score(test_y,pred_y))\n",
    "print(\"Classification Report:\\n\", classification_report(test_y,pred_y))\n",
    "print(\"Confusion Matrix:\\n\", confusion_matrix(test_y,pred_y))"
   ]
  }
 ],
 "metadata": {
  "colab": {
   "provenance": []
  },
  "kernelspec": {
   "display_name": "Python 3 (ipykernel)",
   "language": "python",
   "name": "python3"
  },
  "language_info": {
   "codemirror_mode": {
    "name": "ipython",
    "version": 3
   },
   "file_extension": ".py",
   "mimetype": "text/x-python",
   "name": "python",
   "nbconvert_exporter": "python",
   "pygments_lexer": "ipython3",
   "version": "3.11.9"
  }
 },
 "nbformat": 4,
 "nbformat_minor": 5
}
