{
 "cells": [
  {
   "cell_type": "code",
   "execution_count": 1,
   "metadata": {},
   "outputs": [],
   "source": [
    "import pandas as pd\n",
    "from random import randint,uniform"
   ]
  },
  {
   "cell_type": "code",
   "execution_count": 2,
   "metadata": {},
   "outputs": [],
   "source": [
    "data = []\n",
    "cols = ['a','b','c','d','y']\n",
    "for i in range(500):\n",
    "    y = randint(0,3)\n",
    "    if y==0:\n",
    "        a = randint(1,10)\n",
    "        b = uniform(1,2)\n",
    "        c = 10+(uniform(0,1)*10)\n",
    "        d = 100+(uniform(0,1)*100)\n",
    "    elif y==1:\n",
    "        a = randint(11,20)\n",
    "        b = uniform(3,4)\n",
    "        c = 20+(uniform(0,1)*10)\n",
    "        d = 200+(uniform(0,1)*100)\n",
    "    elif y==2:\n",
    "        a = randint(21,30)\n",
    "        b = uniform(5,6)\n",
    "        c = 30+(uniform(0,1)*10)\n",
    "        d = 300+(uniform(0,1)*100)\n",
    "    else:\n",
    "        a = randint(31,40)\n",
    "        b = uniform(7,8)\n",
    "        c = 40+(uniform(0,1)*10)\n",
    "        d = 400+(uniform(0,1)*100)\n",
    "    data.append([a,b,c,d,y])\n",
    "df = pd.DataFrame(data,columns=cols)"
   ]
  },
  {
   "cell_type": "code",
   "execution_count": 3,
   "metadata": {},
   "outputs": [
    {
     "name": "stdout",
     "output_type": "stream",
     "text": [
      "      a         b          c           d  y\n",
      "0    19  3.003256  22.376759  297.197826  1\n",
      "1    30  5.864085  31.561151  326.318323  2\n",
      "2    20  3.801842  20.746237  285.285876  1\n",
      "3     5  1.483847  11.240933  175.461336  0\n",
      "4    20  3.204064  24.961879  274.434414  1\n",
      "..   ..       ...        ...         ... ..\n",
      "495  10  1.406910  17.474829  111.786089  0\n",
      "496  33  7.305078  44.358098  457.637517  3\n",
      "497   3  1.790782  12.835224  136.250606  0\n",
      "498  30  5.817521  32.835992  336.220380  2\n",
      "499  12  3.656347  27.049984  259.577538  1\n",
      "\n",
      "[500 rows x 5 columns]\n"
     ]
    }
   ],
   "source": [
    "print(df)"
   ]
  },
  {
   "cell_type": "code",
   "execution_count": 4,
   "metadata": {},
   "outputs": [],
   "source": [
    "data = df[['a','b','c','d']]"
   ]
  },
  {
   "cell_type": "code",
   "execution_count": 5,
   "metadata": {},
   "outputs": [],
   "source": [
    "label = df['y']"
   ]
  },
  {
   "cell_type": "code",
   "execution_count": 6,
   "metadata": {},
   "outputs": [],
   "source": [
    "from sklearn.model_selection import train_test_split\n",
    "train_x, test_x, train_y, test_y = train_test_split(data, label, test_size=0.10, random_state=42)"
   ]
  },
  {
   "cell_type": "code",
   "execution_count": 7,
   "metadata": {},
   "outputs": [],
   "source": [
    "from sklearn import tree"
   ]
  },
  {
   "cell_type": "code",
   "execution_count": 8,
   "metadata": {},
   "outputs": [],
   "source": [
    "clf = tree.DecisionTreeClassifier()"
   ]
  },
  {
   "cell_type": "code",
   "execution_count": 9,
   "metadata": {},
   "outputs": [
    {
     "data": {
      "text/plain": [
       "DecisionTreeClassifier(ccp_alpha=0.0, class_weight=None, criterion='gini',\n",
       "                       max_depth=None, max_features=None, max_leaf_nodes=None,\n",
       "                       min_impurity_decrease=0.0, min_impurity_split=None,\n",
       "                       min_samples_leaf=1, min_samples_split=2,\n",
       "                       min_weight_fraction_leaf=0.0, presort='deprecated',\n",
       "                       random_state=None, splitter='best')"
      ]
     },
     "execution_count": 9,
     "metadata": {},
     "output_type": "execute_result"
    }
   ],
   "source": [
    "clf.fit(train_x,train_y)"
   ]
  },
  {
   "cell_type": "code",
   "execution_count": 10,
   "metadata": {},
   "outputs": [],
   "source": [
    "pred_y = clf.predict(test_x)"
   ]
  },
  {
   "cell_type": "code",
   "execution_count": 11,
   "metadata": {},
   "outputs": [
    {
     "name": "stdout",
     "output_type": "stream",
     "text": [
      "1.0\n"
     ]
    }
   ],
   "source": [
    "from sklearn.metrics import accuracy_score\n",
    "score = accuracy_score(test_y,pred_y)\n",
    "print(score)"
   ]
  },
  {
   "cell_type": "code",
   "execution_count": 12,
   "metadata": {},
   "outputs": [
    {
     "data": {
      "text/plain": [
       "[Text(111.60000000000001, 190.26, 'X[1] <= 2.503\\ngini = 0.747\\nsamples = 450\\nvalue = [125, 104, 123, 98]'),\n",
       " Text(55.800000000000004, 135.9, 'gini = 0.0\\nsamples = 125\\nvalue = [125, 0, 0, 0]'),\n",
       " Text(167.4, 135.9, 'X[1] <= 4.499\\ngini = 0.663\\nsamples = 325\\nvalue = [0, 104, 123, 98]'),\n",
       " Text(111.60000000000001, 81.53999999999999, 'gini = 0.0\\nsamples = 104\\nvalue = [0, 104, 0, 0]'),\n",
       " Text(223.20000000000002, 81.53999999999999, 'X[1] <= 6.501\\ngini = 0.494\\nsamples = 221\\nvalue = [0, 0, 123, 98]'),\n",
       " Text(167.4, 27.180000000000007, 'gini = 0.0\\nsamples = 123\\nvalue = [0, 0, 123, 0]'),\n",
       " Text(279.0, 27.180000000000007, 'gini = 0.0\\nsamples = 98\\nvalue = [0, 0, 0, 98]')]"
      ]
     },
     "execution_count": 12,
     "metadata": {},
     "output_type": "execute_result"
    },
    {
     "data": {
      "image/png": "[encoded data removed]",
      "text/plain": [
       "<Figure size 432x288 with 1 Axes>"
      ]
     },
     "metadata": {
      "needs_background": "light"
     },
     "output_type": "display_data"
    }
   ],
   "source": [
    "tree.plot_tree(clf.fit(train_x,train_y))"
   ]
  },
  {
   "cell_type": "code",
   "execution_count": 13,
   "metadata": {},
   "outputs": [
    {
     "name": "stdout",
     "output_type": "stream",
     "text": [
      "|--- feature_1 <= 2.50\n",
      "|   |--- class: 0\n",
      "|--- feature_1 >  2.50\n",
      "|   |--- feature_3 <= 300.04\n",
      "|   |   |--- class: 1\n",
      "|   |--- feature_3 >  300.04\n",
      "|   |   |--- feature_2 <= 39.99\n",
      "|   |   |   |--- class: 2\n",
      "|   |   |--- feature_2 >  39.99\n",
      "|   |   |   |--- class: 3\n",
      "\n"
     ]
    },
    {
     "name": "stderr",
     "output_type": "stream",
     "text": [
      "/home/wirarama/anaconda3/lib/python3.7/site-packages/sklearn/utils/deprecation.py:144: FutureWarning: The sklearn.tree.export module is  deprecated in version 0.22 and will be removed in version 0.24. The corresponding classes / functions should instead be imported from sklearn.tree. Anything that cannot be imported from sklearn.tree is now part of the private API.\n",
      "  warnings.warn(message, FutureWarning)\n"
     ]
    }
   ],
   "source": [
    "from sklearn.tree.export import export_text\n",
    "r = export_text(clf.fit(train_x,train_y))\n",
    "print(r)"
   ]
  },
  {
   "cell_type": "code",
   "execution_count": null,
   "metadata": {},
   "outputs": [],
   "source": []
  }
 ],
 "metadata": {
  "kernelspec": {
   "display_name": "Python 3",
   "language": "python",
   "name": "python3"
  },
  "language_info": {
   "codemirror_mode": {
    "name": "ipython",
    "version": 3
   },
   "file_extension": ".py",
   "mimetype": "text/x-python",
   "name": "python",
   "nbconvert_exporter": "python",
   "pygments_lexer": "ipython3",
   "version": "3.7.6"
  }
 },
 "nbformat": 4,
 "nbformat_minor": 2
}
