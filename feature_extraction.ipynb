{
 "cells": [
  {
   "cell_type": "code",
   "execution_count": 1,
   "metadata": {},
   "outputs": [],
   "source": [
    "import pandas as pd"
   ]
  },
  {
   "cell_type": "code",
   "execution_count": 2,
   "metadata": {},
   "outputs": [],
   "source": [
    "df = pd.read_csv('../bigdata/vgsales.csv')"
   ]
  },
  {
   "cell_type": "code",
   "execution_count": 3,
   "metadata": {},
   "outputs": [
    {
     "data": {
      "text/plain": [
       "Index(['Rank', 'Name', 'Platform', 'Year', 'Genre', 'Publisher', 'NA_Sales',\n",
       "       'EU_Sales', 'JP_Sales', 'Other_Sales', 'Global_Sales'],\n",
       "      dtype='object')"
      ]
     },
     "execution_count": 3,
     "metadata": {},
     "output_type": "execute_result"
    }
   ],
   "source": [
    "df.columns"
   ]
  },
  {
   "cell_type": "code",
   "execution_count": 4,
   "metadata": {},
   "outputs": [
    {
     "name": "stdout",
     "output_type": "stream",
     "text": [
      "           NA_Sales      EU_Sales      JP_Sales   Other_Sales  Global_Sales\n",
      "count  16598.000000  16598.000000  16598.000000  16598.000000  16598.000000\n",
      "mean       0.264667      0.146652      0.077782      0.048063      0.537441\n",
      "std        0.816683      0.505351      0.309291      0.188588      1.555028\n",
      "min        0.000000      0.000000      0.000000      0.000000      0.010000\n",
      "25%        0.000000      0.000000      0.000000      0.000000      0.060000\n",
      "50%        0.080000      0.020000      0.000000      0.010000      0.170000\n",
      "75%        0.240000      0.110000      0.040000      0.040000      0.470000\n",
      "max       41.490000     29.020000     10.220000     10.570000     82.740000\n"
     ]
    }
   ],
   "source": [
    "summary = df[['NA_Sales','EU_Sales', 'JP_Sales', 'Other_Sales', 'Global_Sales']].describe()\n",
    "print(summary)"
   ]
  },
  {
   "cell_type": "markdown",
   "metadata": {},
   "source": [
    "Apa arti 25%, 50% dan 75% pada fungsi .describe?"
   ]
  },
  {
   "cell_type": "code",
   "execution_count": 5,
   "metadata": {},
   "outputs": [
    {
     "name": "stdout",
     "output_type": "stream",
     "text": [
      "0.24\n"
     ]
    }
   ],
   "source": [
    "print(summary['NA_Sales'].loc['75%'])"
   ]
  },
  {
   "cell_type": "markdown",
   "metadata": {},
   "source": [
    "Discretization mengubah data apa?"
   ]
  },
  {
   "cell_type": "code",
   "execution_count": 6,
   "metadata": {},
   "outputs": [],
   "source": [
    "def discretization(attr):\n",
    "    inp = list(df[attr].to_numpy())\n",
    "    midi = df[attr].describe()\n",
    "    out = []\n",
    "    for x in inp:\n",
    "        if(x<=float(midi.loc['25%'])):\n",
    "            out.append(0)\n",
    "        elif(x>float(midi.loc['25%']) and x<=float(midi.loc['50%'])):\n",
    "            out.append(1)\n",
    "        elif(x>float(midi.loc['50%']) and x<=float(midi.loc['75%'])):\n",
    "            out.append(2)\n",
    "        else:\n",
    "            out.append(3)\n",
    "    return out"
   ]
  },
  {
   "cell_type": "code",
   "execution_count": 7,
   "metadata": {},
   "outputs": [],
   "source": [
    "def multiDiscretization(attrs):\n",
    "    df_desc = pd.DataFrame()\n",
    "    for x in attrs:\n",
    "        df_desc[x] = pd.Series(discretization(x),index=df.index)\n",
    "    return df_desc"
   ]
  },
  {
   "cell_type": "code",
   "execution_count": 8,
   "metadata": {},
   "outputs": [],
   "source": [
    "df_desc = multiDiscretization(['NA_Sales','EU_Sales', 'JP_Sales', 'Other_Sales', 'Global_Sales'])"
   ]
  },
  {
   "cell_type": "code",
   "execution_count": 9,
   "metadata": {},
   "outputs": [
    {
     "name": "stdout",
     "output_type": "stream",
     "text": [
      "       NA_Sales  EU_Sales  JP_Sales  Other_Sales  Global_Sales\n",
      "0             3         3         3            3             3\n",
      "1             3         3         3            3             3\n",
      "2             3         3         3            3             3\n",
      "3             3         3         3            3             3\n",
      "4             3         3         3            3             3\n",
      "...         ...       ...       ...          ...           ...\n",
      "16593         1         0         0            0             0\n",
      "16594         1         0         0            0             0\n",
      "16595         0         0         0            0             0\n",
      "16596         0         1         0            0             0\n",
      "16597         1         0         0            0             0\n",
      "\n",
      "[16598 rows x 5 columns]\n"
     ]
    }
   ],
   "source": [
    "print(df_desc)"
   ]
  },
  {
   "cell_type": "code",
   "execution_count": null,
   "metadata": {},
   "outputs": [],
   "source": []
  },
  {
   "cell_type": "markdown",
   "metadata": {},
   "source": [
    "<em>.pivot_table</em> berfungsi untuk apa?"
   ]
  },
  {
   "cell_type": "code",
   "execution_count": 10,
   "metadata": {},
   "outputs": [
    {
     "name": "stdout",
     "output_type": "stream",
     "text": [
      "NA_Sales  EU_Sales  JP_Sales  Other_Sales  Global_Sales\n",
      "0.00      0.00      0.00      0.00         0.01              1\n",
      "                              0.18         0.18              1\n",
      "                    0.01      0.00         0.01            313\n",
      "                    0.02      0.00         0.02            471\n",
      "                                           0.03              3\n",
      "                                                          ... \n",
      "15.85     12.88     3.79      3.31         35.82             1\n",
      "23.20     2.26      4.22      0.58         30.26             1\n",
      "26.93     0.63      0.28      0.47         28.31             1\n",
      "29.08     3.58      6.81      0.77         40.24             1\n",
      "41.49     29.02     3.77      8.46         82.74             1\n",
      "Length: 6774, dtype: int64\n"
     ]
    }
   ],
   "source": [
    "pt = df.pivot_table(index=['NA_Sales','EU_Sales', 'JP_Sales', 'Other_Sales', 'Global_Sales'], aggfunc='size')\n",
    "print (pt)"
   ]
  },
  {
   "cell_type": "code",
   "execution_count": 11,
   "metadata": {},
   "outputs": [
    {
     "name": "stdout",
     "output_type": "stream",
     "text": [
      "NA_Sales  EU_Sales  JP_Sales  Other_Sales  Global_Sales\n",
      "0         0         0         0            0                  1\n",
      "                              3            2                  1\n",
      "                    2         0            0               1350\n",
      "                              2            1                  1\n",
      "                    3         0            0                363\n",
      "                                                           ... \n",
      "3         3         2         3            3                388\n",
      "                    3         0            3                  1\n",
      "                              1            3                 10\n",
      "                              2            3                105\n",
      "                              3            3                731\n",
      "Length: 288, dtype: int64\n"
     ]
    }
   ],
   "source": [
    "pt_desc = df_desc.pivot_table(index=['NA_Sales','EU_Sales', 'JP_Sales', 'Other_Sales', 'Global_Sales'], aggfunc='size')\n",
    "print (pt_desc)"
   ]
  },
  {
   "cell_type": "code",
   "execution_count": 15,
   "metadata": {},
   "outputs": [
    {
     "data": {
      "text/html": [
       "<div>\n",
       "<style scoped>\n",
       "    .dataframe tbody tr th:only-of-type {\n",
       "        vertical-align: middle;\n",
       "    }\n",
       "\n",
       "    .dataframe tbody tr th {\n",
       "        vertical-align: top;\n",
       "    }\n",
       "\n",
       "    .dataframe thead th {\n",
       "        text-align: right;\n",
       "    }\n",
       "</style>\n",
       "<table border=\"1\" class=\"dataframe\">\n",
       "  <thead>\n",
       "    <tr style=\"text-align: right;\">\n",
       "      <th></th>\n",
       "      <th>NA_Sales</th>\n",
       "      <th>EU_Sales</th>\n",
       "      <th>JP_Sales</th>\n",
       "      <th>Other_Sales</th>\n",
       "      <th>Global_Sales</th>\n",
       "    </tr>\n",
       "  </thead>\n",
       "  <tbody>\n",
       "    <tr>\n",
       "      <th>NA_Sales</th>\n",
       "      <td>1.000000</td>\n",
       "      <td>0.767727</td>\n",
       "      <td>0.449787</td>\n",
       "      <td>0.634737</td>\n",
       "      <td>0.941047</td>\n",
       "    </tr>\n",
       "    <tr>\n",
       "      <th>EU_Sales</th>\n",
       "      <td>0.767727</td>\n",
       "      <td>1.000000</td>\n",
       "      <td>0.435584</td>\n",
       "      <td>0.726385</td>\n",
       "      <td>0.902836</td>\n",
       "    </tr>\n",
       "    <tr>\n",
       "      <th>JP_Sales</th>\n",
       "      <td>0.449787</td>\n",
       "      <td>0.435584</td>\n",
       "      <td>1.000000</td>\n",
       "      <td>0.290186</td>\n",
       "      <td>0.611816</td>\n",
       "    </tr>\n",
       "    <tr>\n",
       "      <th>Other_Sales</th>\n",
       "      <td>0.634737</td>\n",
       "      <td>0.726385</td>\n",
       "      <td>0.290186</td>\n",
       "      <td>1.000000</td>\n",
       "      <td>0.748331</td>\n",
       "    </tr>\n",
       "    <tr>\n",
       "      <th>Global_Sales</th>\n",
       "      <td>0.941047</td>\n",
       "      <td>0.902836</td>\n",
       "      <td>0.611816</td>\n",
       "      <td>0.748331</td>\n",
       "      <td>1.000000</td>\n",
       "    </tr>\n",
       "  </tbody>\n",
       "</table>\n",
       "</div>"
      ],
      "text/plain": [
       "              NA_Sales  EU_Sales  JP_Sales  Other_Sales  Global_Sales\n",
       "NA_Sales      1.000000  0.767727  0.449787     0.634737      0.941047\n",
       "EU_Sales      0.767727  1.000000  0.435584     0.726385      0.902836\n",
       "JP_Sales      0.449787  0.435584  1.000000     0.290186      0.611816\n",
       "Other_Sales   0.634737  0.726385  0.290186     1.000000      0.748331\n",
       "Global_Sales  0.941047  0.902836  0.611816     0.748331      1.000000"
      ]
     },
     "execution_count": 15,
     "metadata": {},
     "output_type": "execute_result"
    }
   ],
   "source": [
    "df[['NA_Sales','EU_Sales', 'JP_Sales', 'Other_Sales', 'Global_Sales']].corr()"
   ]
  },
  {
   "cell_type": "code",
   "execution_count": 16,
   "metadata": {},
   "outputs": [
    {
     "data": {
      "text/plain": [
       "array(['Sports', 'Platform', 'Racing', 'Role-Playing', 'Puzzle', 'Misc',\n",
       "       'Shooter', 'Simulation', 'Action', 'Fighting', 'Adventure',\n",
       "       'Strategy'], dtype=object)"
      ]
     },
     "execution_count": 16,
     "metadata": {},
     "output_type": "execute_result"
    }
   ],
   "source": [
    "df['Genre'].unique()"
   ]
  },
  {
   "cell_type": "markdown",
   "metadata": {},
   "source": [
    "String indexer mengubah data apa?"
   ]
  },
  {
   "cell_type": "code",
   "execution_count": 17,
   "metadata": {},
   "outputs": [],
   "source": [
    "def stringIndexer(attr):\n",
    "    uni = list(df[attr].unique())\n",
    "    inp = list(df[attr].to_numpy())\n",
    "    out = []\n",
    "    for x in inp:\n",
    "        out.append(uni.index(x))\n",
    "    return out"
   ]
  },
  {
   "cell_type": "code",
   "execution_count": 18,
   "metadata": {},
   "outputs": [],
   "source": [
    "def multiStringIndexer(attrs):\n",
    "    for x in attrs:\n",
    "        df[x+'_index'] = pd.Series(stringIndexer(x),index=df.index)"
   ]
  },
  {
   "cell_type": "code",
   "execution_count": 19,
   "metadata": {},
   "outputs": [],
   "source": [
    "multiStringIndexer(['Platform','Genre','Publisher'])"
   ]
  },
  {
   "cell_type": "code",
   "execution_count": 20,
   "metadata": {},
   "outputs": [
    {
     "data": {
      "text/html": [
       "<div>\n",
       "<style scoped>\n",
       "    .dataframe tbody tr th:only-of-type {\n",
       "        vertical-align: middle;\n",
       "    }\n",
       "\n",
       "    .dataframe tbody tr th {\n",
       "        vertical-align: top;\n",
       "    }\n",
       "\n",
       "    .dataframe thead th {\n",
       "        text-align: right;\n",
       "    }\n",
       "</style>\n",
       "<table border=\"1\" class=\"dataframe\">\n",
       "  <thead>\n",
       "    <tr style=\"text-align: right;\">\n",
       "      <th></th>\n",
       "      <th>Rank</th>\n",
       "      <th>Name</th>\n",
       "      <th>Platform</th>\n",
       "      <th>Year</th>\n",
       "      <th>Genre</th>\n",
       "      <th>Publisher</th>\n",
       "      <th>NA_Sales</th>\n",
       "      <th>EU_Sales</th>\n",
       "      <th>JP_Sales</th>\n",
       "      <th>Other_Sales</th>\n",
       "      <th>Global_Sales</th>\n",
       "      <th>Platform_index</th>\n",
       "      <th>Genre_index</th>\n",
       "      <th>Publisher_index</th>\n",
       "    </tr>\n",
       "  </thead>\n",
       "  <tbody>\n",
       "    <tr>\n",
       "      <th>0</th>\n",
       "      <td>1</td>\n",
       "      <td>Wii Sports</td>\n",
       "      <td>Wii</td>\n",
       "      <td>2006.0</td>\n",
       "      <td>Sports</td>\n",
       "      <td>Nintendo</td>\n",
       "      <td>41.49</td>\n",
       "      <td>29.02</td>\n",
       "      <td>3.77</td>\n",
       "      <td>8.46</td>\n",
       "      <td>82.74</td>\n",
       "      <td>0</td>\n",
       "      <td>0</td>\n",
       "      <td>0</td>\n",
       "    </tr>\n",
       "    <tr>\n",
       "      <th>1</th>\n",
       "      <td>2</td>\n",
       "      <td>Super Mario Bros.</td>\n",
       "      <td>NES</td>\n",
       "      <td>1985.0</td>\n",
       "      <td>Platform</td>\n",
       "      <td>Nintendo</td>\n",
       "      <td>29.08</td>\n",
       "      <td>3.58</td>\n",
       "      <td>6.81</td>\n",
       "      <td>0.77</td>\n",
       "      <td>40.24</td>\n",
       "      <td>1</td>\n",
       "      <td>1</td>\n",
       "      <td>0</td>\n",
       "    </tr>\n",
       "    <tr>\n",
       "      <th>2</th>\n",
       "      <td>3</td>\n",
       "      <td>Mario Kart Wii</td>\n",
       "      <td>Wii</td>\n",
       "      <td>2008.0</td>\n",
       "      <td>Racing</td>\n",
       "      <td>Nintendo</td>\n",
       "      <td>15.85</td>\n",
       "      <td>12.88</td>\n",
       "      <td>3.79</td>\n",
       "      <td>3.31</td>\n",
       "      <td>35.82</td>\n",
       "      <td>0</td>\n",
       "      <td>2</td>\n",
       "      <td>0</td>\n",
       "    </tr>\n",
       "    <tr>\n",
       "      <th>3</th>\n",
       "      <td>4</td>\n",
       "      <td>Wii Sports Resort</td>\n",
       "      <td>Wii</td>\n",
       "      <td>2009.0</td>\n",
       "      <td>Sports</td>\n",
       "      <td>Nintendo</td>\n",
       "      <td>15.75</td>\n",
       "      <td>11.01</td>\n",
       "      <td>3.28</td>\n",
       "      <td>2.96</td>\n",
       "      <td>33.00</td>\n",
       "      <td>0</td>\n",
       "      <td>0</td>\n",
       "      <td>0</td>\n",
       "    </tr>\n",
       "    <tr>\n",
       "      <th>4</th>\n",
       "      <td>5</td>\n",
       "      <td>Pokemon Red/Pokemon Blue</td>\n",
       "      <td>GB</td>\n",
       "      <td>1996.0</td>\n",
       "      <td>Role-Playing</td>\n",
       "      <td>Nintendo</td>\n",
       "      <td>11.27</td>\n",
       "      <td>8.89</td>\n",
       "      <td>10.22</td>\n",
       "      <td>1.00</td>\n",
       "      <td>31.37</td>\n",
       "      <td>2</td>\n",
       "      <td>3</td>\n",
       "      <td>0</td>\n",
       "    </tr>\n",
       "    <tr>\n",
       "      <th>...</th>\n",
       "      <td>...</td>\n",
       "      <td>...</td>\n",
       "      <td>...</td>\n",
       "      <td>...</td>\n",
       "      <td>...</td>\n",
       "      <td>...</td>\n",
       "      <td>...</td>\n",
       "      <td>...</td>\n",
       "      <td>...</td>\n",
       "      <td>...</td>\n",
       "      <td>...</td>\n",
       "      <td>...</td>\n",
       "      <td>...</td>\n",
       "      <td>...</td>\n",
       "    </tr>\n",
       "    <tr>\n",
       "      <th>16593</th>\n",
       "      <td>16596</td>\n",
       "      <td>Woody Woodpecker in Crazy Castle 5</td>\n",
       "      <td>GBA</td>\n",
       "      <td>2002.0</td>\n",
       "      <td>Platform</td>\n",
       "      <td>Kemco</td>\n",
       "      <td>0.01</td>\n",
       "      <td>0.00</td>\n",
       "      <td>0.00</td>\n",
       "      <td>0.00</td>\n",
       "      <td>0.01</td>\n",
       "      <td>8</td>\n",
       "      <td>1</td>\n",
       "      <td>188</td>\n",
       "    </tr>\n",
       "    <tr>\n",
       "      <th>16594</th>\n",
       "      <td>16597</td>\n",
       "      <td>Men in Black II: Alien Escape</td>\n",
       "      <td>GC</td>\n",
       "      <td>2003.0</td>\n",
       "      <td>Shooter</td>\n",
       "      <td>Infogrames</td>\n",
       "      <td>0.01</td>\n",
       "      <td>0.00</td>\n",
       "      <td>0.00</td>\n",
       "      <td>0.00</td>\n",
       "      <td>0.01</td>\n",
       "      <td>18</td>\n",
       "      <td>6</td>\n",
       "      <td>52</td>\n",
       "    </tr>\n",
       "    <tr>\n",
       "      <th>16595</th>\n",
       "      <td>16598</td>\n",
       "      <td>SCORE International Baja 1000: The Official Game</td>\n",
       "      <td>PS2</td>\n",
       "      <td>2008.0</td>\n",
       "      <td>Racing</td>\n",
       "      <td>Activision</td>\n",
       "      <td>0.00</td>\n",
       "      <td>0.00</td>\n",
       "      <td>0.00</td>\n",
       "      <td>0.00</td>\n",
       "      <td>0.01</td>\n",
       "      <td>6</td>\n",
       "      <td>2</td>\n",
       "      <td>4</td>\n",
       "    </tr>\n",
       "    <tr>\n",
       "      <th>16596</th>\n",
       "      <td>16599</td>\n",
       "      <td>Know How 2</td>\n",
       "      <td>DS</td>\n",
       "      <td>2010.0</td>\n",
       "      <td>Puzzle</td>\n",
       "      <td>7G//AMES</td>\n",
       "      <td>0.00</td>\n",
       "      <td>0.01</td>\n",
       "      <td>0.00</td>\n",
       "      <td>0.00</td>\n",
       "      <td>0.01</td>\n",
       "      <td>3</td>\n",
       "      <td>4</td>\n",
       "      <td>508</td>\n",
       "    </tr>\n",
       "    <tr>\n",
       "      <th>16597</th>\n",
       "      <td>16600</td>\n",
       "      <td>Spirits &amp; Spells</td>\n",
       "      <td>GBA</td>\n",
       "      <td>2003.0</td>\n",
       "      <td>Platform</td>\n",
       "      <td>Wanadoo</td>\n",
       "      <td>0.01</td>\n",
       "      <td>0.00</td>\n",
       "      <td>0.00</td>\n",
       "      <td>0.00</td>\n",
       "      <td>0.01</td>\n",
       "      <td>8</td>\n",
       "      <td>1</td>\n",
       "      <td>171</td>\n",
       "    </tr>\n",
       "  </tbody>\n",
       "</table>\n",
       "<p>16598 rows × 14 columns</p>\n",
       "</div>"
      ],
      "text/plain": [
       "        Rank                                              Name Platform  \\\n",
       "0          1                                        Wii Sports      Wii   \n",
       "1          2                                 Super Mario Bros.      NES   \n",
       "2          3                                    Mario Kart Wii      Wii   \n",
       "3          4                                 Wii Sports Resort      Wii   \n",
       "4          5                          Pokemon Red/Pokemon Blue       GB   \n",
       "...      ...                                               ...      ...   \n",
       "16593  16596                Woody Woodpecker in Crazy Castle 5      GBA   \n",
       "16594  16597                     Men in Black II: Alien Escape       GC   \n",
       "16595  16598  SCORE International Baja 1000: The Official Game      PS2   \n",
       "16596  16599                                        Know How 2       DS   \n",
       "16597  16600                                  Spirits & Spells      GBA   \n",
       "\n",
       "         Year         Genre   Publisher  NA_Sales  EU_Sales  JP_Sales  \\\n",
       "0      2006.0        Sports    Nintendo     41.49     29.02      3.77   \n",
       "1      1985.0      Platform    Nintendo     29.08      3.58      6.81   \n",
       "2      2008.0        Racing    Nintendo     15.85     12.88      3.79   \n",
       "3      2009.0        Sports    Nintendo     15.75     11.01      3.28   \n",
       "4      1996.0  Role-Playing    Nintendo     11.27      8.89     10.22   \n",
       "...       ...           ...         ...       ...       ...       ...   \n",
       "16593  2002.0      Platform       Kemco      0.01      0.00      0.00   \n",
       "16594  2003.0       Shooter  Infogrames      0.01      0.00      0.00   \n",
       "16595  2008.0        Racing  Activision      0.00      0.00      0.00   \n",
       "16596  2010.0        Puzzle    7G//AMES      0.00      0.01      0.00   \n",
       "16597  2003.0      Platform     Wanadoo      0.01      0.00      0.00   \n",
       "\n",
       "       Other_Sales  Global_Sales  Platform_index  Genre_index  Publisher_index  \n",
       "0             8.46         82.74               0            0                0  \n",
       "1             0.77         40.24               1            1                0  \n",
       "2             3.31         35.82               0            2                0  \n",
       "3             2.96         33.00               0            0                0  \n",
       "4             1.00         31.37               2            3                0  \n",
       "...            ...           ...             ...          ...              ...  \n",
       "16593         0.00          0.01               8            1              188  \n",
       "16594         0.00          0.01              18            6               52  \n",
       "16595         0.00          0.01               6            2                4  \n",
       "16596         0.00          0.01               3            4              508  \n",
       "16597         0.00          0.01               8            1              171  \n",
       "\n",
       "[16598 rows x 14 columns]"
      ]
     },
     "execution_count": 20,
     "metadata": {},
     "output_type": "execute_result"
    }
   ],
   "source": [
    "df"
   ]
  },
  {
   "cell_type": "code",
   "execution_count": 15,
   "metadata": {},
   "outputs": [
    {
     "name": "stderr",
     "output_type": "stream",
     "text": [
      "C:\\Users\\wirar\\AppData\\Local\\Temp\\ipykernel_9796\\1134722465.py:1: FutureWarning: The default value of numeric_only in DataFrame.corr is deprecated. In a future version, it will default to False. Select only valid columns or specify the value of numeric_only to silence this warning.\n",
      "  df.corr()\n"
     ]
    },
    {
     "data": {
      "text/html": [
       "<div>\n",
       "<style scoped>\n",
       "    .dataframe tbody tr th:only-of-type {\n",
       "        vertical-align: middle;\n",
       "    }\n",
       "\n",
       "    .dataframe tbody tr th {\n",
       "        vertical-align: top;\n",
       "    }\n",
       "\n",
       "    .dataframe thead th {\n",
       "        text-align: right;\n",
       "    }\n",
       "</style>\n",
       "<table border=\"1\" class=\"dataframe\">\n",
       "  <thead>\n",
       "    <tr style=\"text-align: right;\">\n",
       "      <th></th>\n",
       "      <th>Rank</th>\n",
       "      <th>Year</th>\n",
       "      <th>NA_Sales</th>\n",
       "      <th>EU_Sales</th>\n",
       "      <th>JP_Sales</th>\n",
       "      <th>Other_Sales</th>\n",
       "      <th>Global_Sales</th>\n",
       "      <th>Platform_index</th>\n",
       "      <th>Genre_index</th>\n",
       "      <th>Publisher_index</th>\n",
       "    </tr>\n",
       "  </thead>\n",
       "  <tbody>\n",
       "    <tr>\n",
       "      <th>Rank</th>\n",
       "      <td>1.000000</td>\n",
       "      <td>0.178814</td>\n",
       "      <td>-0.401362</td>\n",
       "      <td>-0.379123</td>\n",
       "      <td>-0.267785</td>\n",
       "      <td>-0.332986</td>\n",
       "      <td>-0.427407</td>\n",
       "      <td>0.143405</td>\n",
       "      <td>0.140260</td>\n",
       "      <td>0.426074</td>\n",
       "    </tr>\n",
       "    <tr>\n",
       "      <th>Year</th>\n",
       "      <td>0.178814</td>\n",
       "      <td>1.000000</td>\n",
       "      <td>-0.091402</td>\n",
       "      <td>0.006014</td>\n",
       "      <td>-0.169316</td>\n",
       "      <td>0.041058</td>\n",
       "      <td>-0.074735</td>\n",
       "      <td>-0.124849</td>\n",
       "      <td>0.124013</td>\n",
       "      <td>0.094037</td>\n",
       "    </tr>\n",
       "    <tr>\n",
       "      <th>NA_Sales</th>\n",
       "      <td>-0.401362</td>\n",
       "      <td>-0.091402</td>\n",
       "      <td>1.000000</td>\n",
       "      <td>0.767727</td>\n",
       "      <td>0.449787</td>\n",
       "      <td>0.634737</td>\n",
       "      <td>0.941047</td>\n",
       "      <td>-0.087218</td>\n",
       "      <td>-0.060087</td>\n",
       "      <td>-0.142851</td>\n",
       "    </tr>\n",
       "    <tr>\n",
       "      <th>EU_Sales</th>\n",
       "      <td>-0.379123</td>\n",
       "      <td>0.006014</td>\n",
       "      <td>0.767727</td>\n",
       "      <td>1.000000</td>\n",
       "      <td>0.435584</td>\n",
       "      <td>0.726385</td>\n",
       "      <td>0.902836</td>\n",
       "      <td>-0.070409</td>\n",
       "      <td>-0.047161</td>\n",
       "      <td>-0.131251</td>\n",
       "    </tr>\n",
       "    <tr>\n",
       "      <th>JP_Sales</th>\n",
       "      <td>-0.267785</td>\n",
       "      <td>-0.169316</td>\n",
       "      <td>0.449787</td>\n",
       "      <td>0.435584</td>\n",
       "      <td>1.000000</td>\n",
       "      <td>0.290186</td>\n",
       "      <td>0.611816</td>\n",
       "      <td>-0.044622</td>\n",
       "      <td>-0.052148</td>\n",
       "      <td>-0.083492</td>\n",
       "    </tr>\n",
       "    <tr>\n",
       "      <th>Other_Sales</th>\n",
       "      <td>-0.332986</td>\n",
       "      <td>0.041058</td>\n",
       "      <td>0.634737</td>\n",
       "      <td>0.726385</td>\n",
       "      <td>0.290186</td>\n",
       "      <td>1.000000</td>\n",
       "      <td>0.748331</td>\n",
       "      <td>-0.081278</td>\n",
       "      <td>-0.039744</td>\n",
       "      <td>-0.116289</td>\n",
       "    </tr>\n",
       "    <tr>\n",
       "      <th>Global_Sales</th>\n",
       "      <td>-0.427407</td>\n",
       "      <td>-0.074735</td>\n",
       "      <td>0.941047</td>\n",
       "      <td>0.902836</td>\n",
       "      <td>0.611816</td>\n",
       "      <td>0.748331</td>\n",
       "      <td>1.000000</td>\n",
       "      <td>-0.087424</td>\n",
       "      <td>-0.062067</td>\n",
       "      <td>-0.148346</td>\n",
       "    </tr>\n",
       "    <tr>\n",
       "      <th>Platform_index</th>\n",
       "      <td>0.143405</td>\n",
       "      <td>-0.124849</td>\n",
       "      <td>-0.087218</td>\n",
       "      <td>-0.070409</td>\n",
       "      <td>-0.044622</td>\n",
       "      <td>-0.081278</td>\n",
       "      <td>-0.087424</td>\n",
       "      <td>1.000000</td>\n",
       "      <td>0.057640</td>\n",
       "      <td>0.087024</td>\n",
       "    </tr>\n",
       "    <tr>\n",
       "      <th>Genre_index</th>\n",
       "      <td>0.140260</td>\n",
       "      <td>0.124013</td>\n",
       "      <td>-0.060087</td>\n",
       "      <td>-0.047161</td>\n",
       "      <td>-0.052148</td>\n",
       "      <td>-0.039744</td>\n",
       "      <td>-0.062067</td>\n",
       "      <td>0.057640</td>\n",
       "      <td>1.000000</td>\n",
       "      <td>0.139236</td>\n",
       "    </tr>\n",
       "    <tr>\n",
       "      <th>Publisher_index</th>\n",
       "      <td>0.426074</td>\n",
       "      <td>0.094037</td>\n",
       "      <td>-0.142851</td>\n",
       "      <td>-0.131251</td>\n",
       "      <td>-0.083492</td>\n",
       "      <td>-0.116289</td>\n",
       "      <td>-0.148346</td>\n",
       "      <td>0.087024</td>\n",
       "      <td>0.139236</td>\n",
       "      <td>1.000000</td>\n",
       "    </tr>\n",
       "  </tbody>\n",
       "</table>\n",
       "</div>"
      ],
      "text/plain": [
       "                     Rank      Year  NA_Sales  EU_Sales  JP_Sales  \\\n",
       "Rank             1.000000  0.178814 -0.401362 -0.379123 -0.267785   \n",
       "Year             0.178814  1.000000 -0.091402  0.006014 -0.169316   \n",
       "NA_Sales        -0.401362 -0.091402  1.000000  0.767727  0.449787   \n",
       "EU_Sales        -0.379123  0.006014  0.767727  1.000000  0.435584   \n",
       "JP_Sales        -0.267785 -0.169316  0.449787  0.435584  1.000000   \n",
       "Other_Sales     -0.332986  0.041058  0.634737  0.726385  0.290186   \n",
       "Global_Sales    -0.427407 -0.074735  0.941047  0.902836  0.611816   \n",
       "Platform_index   0.143405 -0.124849 -0.087218 -0.070409 -0.044622   \n",
       "Genre_index      0.140260  0.124013 -0.060087 -0.047161 -0.052148   \n",
       "Publisher_index  0.426074  0.094037 -0.142851 -0.131251 -0.083492   \n",
       "\n",
       "                 Other_Sales  Global_Sales  Platform_index  Genre_index  \\\n",
       "Rank               -0.332986     -0.427407        0.143405     0.140260   \n",
       "Year                0.041058     -0.074735       -0.124849     0.124013   \n",
       "NA_Sales            0.634737      0.941047       -0.087218    -0.060087   \n",
       "EU_Sales            0.726385      0.902836       -0.070409    -0.047161   \n",
       "JP_Sales            0.290186      0.611816       -0.044622    -0.052148   \n",
       "Other_Sales         1.000000      0.748331       -0.081278    -0.039744   \n",
       "Global_Sales        0.748331      1.000000       -0.087424    -0.062067   \n",
       "Platform_index     -0.081278     -0.087424        1.000000     0.057640   \n",
       "Genre_index        -0.039744     -0.062067        0.057640     1.000000   \n",
       "Publisher_index    -0.116289     -0.148346        0.087024     0.139236   \n",
       "\n",
       "                 Publisher_index  \n",
       "Rank                    0.426074  \n",
       "Year                    0.094037  \n",
       "NA_Sales               -0.142851  \n",
       "EU_Sales               -0.131251  \n",
       "JP_Sales               -0.083492  \n",
       "Other_Sales            -0.116289  \n",
       "Global_Sales           -0.148346  \n",
       "Platform_index          0.087024  \n",
       "Genre_index             0.139236  \n",
       "Publisher_index         1.000000  "
      ]
     },
     "execution_count": 15,
     "metadata": {},
     "output_type": "execute_result"
    }
   ],
   "source": [
    "df.corr()"
   ]
  },
  {
   "cell_type": "code",
   "execution_count": 17,
   "metadata": {},
   "outputs": [],
   "source": [
    "from random import randint,uniform"
   ]
  },
  {
   "cell_type": "code",
   "execution_count": 18,
   "metadata": {},
   "outputs": [],
   "source": [
    "data = []\n",
    "cols = ['a','b','c','d']\n",
    "for i in range(500):\n",
    "    a = randint(1,10)\n",
    "    b = ((a/2)*10)+uniform(1,8)\n",
    "    c = b*uniform(0,2)+a\n",
    "    d = c*100/a\n",
    "    data.append([a,b,c,d])\n",
    "df = pd.DataFrame(data,columns=cols)"
   ]
  },
  {
   "cell_type": "code",
   "execution_count": 19,
   "metadata": {},
   "outputs": [
    {
     "data": {
      "text/html": [
       "<div>\n",
       "<style scoped>\n",
       "    .dataframe tbody tr th:only-of-type {\n",
       "        vertical-align: middle;\n",
       "    }\n",
       "\n",
       "    .dataframe tbody tr th {\n",
       "        vertical-align: top;\n",
       "    }\n",
       "\n",
       "    .dataframe thead th {\n",
       "        text-align: right;\n",
       "    }\n",
       "</style>\n",
       "<table border=\"1\" class=\"dataframe\">\n",
       "  <thead>\n",
       "    <tr style=\"text-align: right;\">\n",
       "      <th></th>\n",
       "      <th>a</th>\n",
       "      <th>b</th>\n",
       "      <th>c</th>\n",
       "      <th>d</th>\n",
       "    </tr>\n",
       "  </thead>\n",
       "  <tbody>\n",
       "    <tr>\n",
       "      <th>a</th>\n",
       "      <td>1.000000</td>\n",
       "      <td>0.991071</td>\n",
       "      <td>0.613352</td>\n",
       "      <td>-0.268827</td>\n",
       "    </tr>\n",
       "    <tr>\n",
       "      <th>b</th>\n",
       "      <td>0.991071</td>\n",
       "      <td>1.000000</td>\n",
       "      <td>0.612596</td>\n",
       "      <td>-0.253680</td>\n",
       "    </tr>\n",
       "    <tr>\n",
       "      <th>c</th>\n",
       "      <td>0.613352</td>\n",
       "      <td>0.612596</td>\n",
       "      <td>1.000000</td>\n",
       "      <td>0.478547</td>\n",
       "    </tr>\n",
       "    <tr>\n",
       "      <th>d</th>\n",
       "      <td>-0.268827</td>\n",
       "      <td>-0.253680</td>\n",
       "      <td>0.478547</td>\n",
       "      <td>1.000000</td>\n",
       "    </tr>\n",
       "  </tbody>\n",
       "</table>\n",
       "</div>"
      ],
      "text/plain": [
       "          a         b         c         d\n",
       "a  1.000000  0.991071  0.613352 -0.268827\n",
       "b  0.991071  1.000000  0.612596 -0.253680\n",
       "c  0.613352  0.612596  1.000000  0.478547\n",
       "d -0.268827 -0.253680  0.478547  1.000000"
      ]
     },
     "execution_count": 19,
     "metadata": {},
     "output_type": "execute_result"
    }
   ],
   "source": [
    "df.corr()"
   ]
  },
  {
   "cell_type": "code",
   "execution_count": 20,
   "metadata": {},
   "outputs": [
    {
     "data": {
      "text/html": [
       "<div>\n",
       "<style scoped>\n",
       "    .dataframe tbody tr th:only-of-type {\n",
       "        vertical-align: middle;\n",
       "    }\n",
       "\n",
       "    .dataframe tbody tr th {\n",
       "        vertical-align: top;\n",
       "    }\n",
       "\n",
       "    .dataframe thead th {\n",
       "        text-align: right;\n",
       "    }\n",
       "</style>\n",
       "<table border=\"1\" class=\"dataframe\">\n",
       "  <thead>\n",
       "    <tr style=\"text-align: right;\">\n",
       "      <th></th>\n",
       "      <th>a</th>\n",
       "      <th>b</th>\n",
       "      <th>c</th>\n",
       "      <th>d</th>\n",
       "    </tr>\n",
       "  </thead>\n",
       "  <tbody>\n",
       "    <tr>\n",
       "      <th>count</th>\n",
       "      <td>500.000000</td>\n",
       "      <td>500.000000</td>\n",
       "      <td>500.000000</td>\n",
       "      <td>500.000000</td>\n",
       "    </tr>\n",
       "    <tr>\n",
       "      <th>mean</th>\n",
       "      <td>5.422000</td>\n",
       "      <td>31.700738</td>\n",
       "      <td>35.369443</td>\n",
       "      <td>704.532657</td>\n",
       "    </tr>\n",
       "    <tr>\n",
       "      <th>std</th>\n",
       "      <td>2.883148</td>\n",
       "      <td>14.640145</td>\n",
       "      <td>25.812067</td>\n",
       "      <td>365.902194</td>\n",
       "    </tr>\n",
       "    <tr>\n",
       "      <th>min</th>\n",
       "      <td>1.000000</td>\n",
       "      <td>6.058421</td>\n",
       "      <td>1.166429</td>\n",
       "      <td>107.345180</td>\n",
       "    </tr>\n",
       "    <tr>\n",
       "      <th>25%</th>\n",
       "      <td>3.000000</td>\n",
       "      <td>19.050296</td>\n",
       "      <td>14.529669</td>\n",
       "      <td>402.257897</td>\n",
       "    </tr>\n",
       "    <tr>\n",
       "      <th>50%</th>\n",
       "      <td>5.000000</td>\n",
       "      <td>31.724855</td>\n",
       "      <td>28.622733</td>\n",
       "      <td>709.730331</td>\n",
       "    </tr>\n",
       "    <tr>\n",
       "      <th>75%</th>\n",
       "      <td>8.000000</td>\n",
       "      <td>45.042811</td>\n",
       "      <td>49.676202</td>\n",
       "      <td>985.990396</td>\n",
       "    </tr>\n",
       "    <tr>\n",
       "      <th>max</th>\n",
       "      <td>10.000000</td>\n",
       "      <td>57.760303</td>\n",
       "      <td>117.604956</td>\n",
       "      <td>1969.668465</td>\n",
       "    </tr>\n",
       "  </tbody>\n",
       "</table>\n",
       "</div>"
      ],
      "text/plain": [
       "                a           b           c            d\n",
       "count  500.000000  500.000000  500.000000   500.000000\n",
       "mean     5.422000   31.700738   35.369443   704.532657\n",
       "std      2.883148   14.640145   25.812067   365.902194\n",
       "min      1.000000    6.058421    1.166429   107.345180\n",
       "25%      3.000000   19.050296   14.529669   402.257897\n",
       "50%      5.000000   31.724855   28.622733   709.730331\n",
       "75%      8.000000   45.042811   49.676202   985.990396\n",
       "max     10.000000   57.760303  117.604956  1969.668465"
      ]
     },
     "execution_count": 20,
     "metadata": {},
     "output_type": "execute_result"
    }
   ],
   "source": [
    "df.describe()"
   ]
  },
  {
   "cell_type": "code",
   "execution_count": 21,
   "metadata": {},
   "outputs": [],
   "source": [
    "df_desc = multiDiscretization(cols)"
   ]
  },
  {
   "cell_type": "code",
   "execution_count": 22,
   "metadata": {},
   "outputs": [
    {
     "name": "stdout",
     "output_type": "stream",
     "text": [
      "a   b          c           d          \n",
      "1   6.058421   8.754461    875.446071     1\n",
      "    6.078937   10.542112   1054.211163    1\n",
      "    6.289104   11.116322   1111.632182    1\n",
      "    6.368627   11.463912   1146.391166    1\n",
      "    6.460220   4.685753    468.575325     1\n",
      "                                         ..\n",
      "10  57.418619  57.706567   577.065672     1\n",
      "    57.459816  42.292884   422.928836     1\n",
      "    57.679214  38.189299   381.892985     1\n",
      "    57.693945  117.604956  1176.049556    1\n",
      "    57.760303  86.644981   866.449813     1\n",
      "Length: 500, dtype: int64\n"
     ]
    }
   ],
   "source": [
    "pt = df.pivot_table(index=cols, aggfunc='size')\n",
    "print (pt)"
   ]
  },
  {
   "cell_type": "code",
   "execution_count": 24,
   "metadata": {},
   "outputs": [
    {
     "name": "stdout",
     "output_type": "stream",
     "text": [
      "a  b  c  d\n",
      "0  0  0  0    22\n",
      "         1    21\n",
      "         2    17\n",
      "         3    16\n",
      "      1  1     7\n",
      "         2    16\n",
      "         3    18\n",
      "      2  3     8\n",
      "   1  0  0     5\n",
      "         1     2\n",
      "      1  1     4\n",
      "         2    11\n",
      "      2  2     1\n",
      "         3    12\n",
      "1  1  0  0    11\n",
      "      1  0     3\n",
      "         1    17\n",
      "      2  1     4\n",
      "         2    27\n",
      "         3    11\n",
      "      3  3    13\n",
      "   2  0  0     3\n",
      "      1  1     1\n",
      "      2  1     1\n",
      "         2     1\n",
      "2  1  1  0     1\n",
      "      2  1     2\n",
      "      3  3     1\n",
      "   2  0  0    15\n",
      "      1  0    23\n",
      "         1     6\n",
      "      2  0     1\n",
      "         1    29\n",
      "         2     5\n",
      "      3  2    18\n",
      "         3    22\n",
      "   3  0  0     6\n",
      "      1  0     3\n",
      "      2  1     3\n",
      "      3  1     2\n",
      "         2     5\n",
      "         3     5\n",
      "3  3  0  0     7\n",
      "      1  0    15\n",
      "      2  0    10\n",
      "         1    10\n",
      "      3  1    16\n",
      "         2    24\n",
      "         3    19\n",
      "dtype: int64\n"
     ]
    }
   ],
   "source": [
    "pt_desc = df_desc.pivot_table(index=cols, aggfunc='size')\n",
    "print (pt_desc)"
   ]
  },
  {
   "cell_type": "code",
   "execution_count": 25,
   "metadata": {},
   "outputs": [
    {
     "data": {
      "text/plain": [
       "49"
      ]
     },
     "execution_count": 25,
     "metadata": {},
     "output_type": "execute_result"
    }
   ],
   "source": [
    "len(pt_desc)"
   ]
  },
  {
   "cell_type": "markdown",
   "metadata": {},
   "source": [
    "<em>zscore</em> melakukan normalisasi data berdasarkan?"
   ]
  },
  {
   "cell_type": "code",
   "execution_count": 26,
   "metadata": {},
   "outputs": [
    {
     "name": "stdout",
     "output_type": "stream",
     "text": [
      "            a         b         c         d\n",
      "0   -1.535276 -1.751858 -0.962813  0.956618\n",
      "1   -0.493705 -0.371301 -0.006200  0.480682\n",
      "2    0.895057  0.822996 -0.778616 -1.404469\n",
      "3   -0.493705 -0.380215  0.174463  0.799298\n",
      "4   -0.840895 -0.912221 -0.665438 -0.266793\n",
      "..        ...       ...       ...       ...\n",
      "495  1.242248  1.265360 -0.972251 -1.614347\n",
      "496 -0.493705 -0.570549 -0.180390  0.173483\n",
      "497  1.242248  1.298066  2.575009  1.166059\n",
      "498 -0.840895 -0.674935 -0.261758  0.682441\n",
      "499 -1.535276 -1.448643 -0.998216  0.706874\n",
      "\n",
      "[500 rows x 4 columns]\n"
     ]
    }
   ],
   "source": [
    "df_zscore = pd.DataFrame()\n",
    "for col in cols:\n",
    "    df_zscore[col] = (df[col] - df[col].mean())/df[col].std(ddof=0)\n",
    "print(df_zscore)"
   ]
  },
  {
   "cell_type": "markdown",
   "metadata": {},
   "source": [
    "<em>dscale</em> melakukan normalisasi data berdasarkan?"
   ]
  },
  {
   "cell_type": "code",
   "execution_count": 28,
   "metadata": {},
   "outputs": [
    {
     "name": "stdout",
     "output_type": "stream",
     "text": [
      "        a         b         c         d\n",
      "0    0.01  0.060789  0.010542  0.105421\n",
      "1    0.04  0.262703  0.035210  0.088024\n",
      "2    0.08  0.437375  0.015292  0.019115\n",
      "3    0.04  0.261399  0.039868  0.099670\n",
      "4    0.03  0.183591  0.018210  0.060701\n",
      "..    ...       ...       ...       ...\n",
      "495  0.09  0.502072  0.010299  0.011443\n",
      "496  0.04  0.233562  0.030718  0.076795\n",
      "497  0.09  0.506856  0.101769  0.113077\n",
      "498  0.03  0.218295  0.028620  0.095399\n",
      "499  0.01  0.105136  0.009629  0.096292\n",
      "\n",
      "[500 rows x 4 columns]\n"
     ]
    }
   ],
   "source": [
    "df_dscale = pd.DataFrame()\n",
    "for col in cols:\n",
    "    p = df[col].max()\n",
    "    q = len(str(abs(int(p))))\n",
    "    df_dscale[col] = df[col]/10**q\n",
    "print(df_dscale)"
   ]
  },
  {
   "cell_type": "code",
   "execution_count": 33,
   "metadata": {},
   "outputs": [
    {
     "data": {
      "text/plain": [
       "10000"
      ]
     },
     "execution_count": 33,
     "metadata": {},
     "output_type": "execute_result"
    }
   ],
   "source": [
    "10**4"
   ]
  },
  {
   "cell_type": "markdown",
   "metadata": {},
   "source": [
    "<em>minmax</em> melakukan normalisasi data berdasarkan?"
   ]
  },
  {
   "cell_type": "code",
   "execution_count": 54,
   "metadata": {},
   "outputs": [
    {
     "name": "stdout",
     "output_type": "stream",
     "text": [
      "            a         b         c         d\n",
      "0    0.111111  0.109633  0.075593  0.161384\n",
      "1    0.000000  0.013181  0.000000  0.005163\n",
      "2    1.000000  0.874084  0.383196  0.145903\n",
      "3    0.666667  0.601146  0.057381  0.005439\n",
      "4    0.111111  0.123949  0.019586  0.029013\n",
      "5    0.888889  0.772128  0.252248  0.097751\n",
      "6    0.555556  0.514472  0.149241  0.085336\n",
      "7    0.222222  0.209448  0.254757  0.376652\n",
      "8    0.111111  0.100436  0.092447  0.201218\n",
      "9    0.111111  0.188847  0.259363  0.595724\n",
      "10   0.222222  0.203900  0.229482  0.336828\n",
      "11   0.333333  0.297114  0.259523  0.278191\n",
      "12   0.666667  0.699578  0.407243  0.241696\n",
      "13   0.444444  0.433880  0.072173  0.037488\n",
      "14   0.000000  0.040913  0.133909  0.638150\n",
      "15   0.888889  0.788665  0.594332  0.277422\n",
      "16   0.333333  0.407661  0.226807  0.239529\n",
      "17   0.777778  0.753665  0.234421  0.104402\n",
      "18   0.000000  0.099691  0.108245  0.516835\n",
      "19   0.222222  0.224343  0.280384  0.417032\n",
      "20   0.555556  0.487561  0.503001  0.364040\n",
      "21   0.444444  0.471732  0.048892  0.015477\n",
      "22   1.000000  0.893748  0.326429  0.119070\n",
      "23   1.000000  0.870677  0.813621  0.349365\n",
      "24   0.222222  0.304602  0.329661  0.494675\n",
      "25   1.000000  0.948962  0.546027  0.222873\n",
      "26   0.555556  0.572874  0.063373  0.017687\n",
      "27   0.111111  0.103814  0.145617  0.326886\n",
      "28   0.000000  0.091874  0.170439  0.810828\n",
      "29   0.111111  0.114978  0.085145  0.183961\n",
      "..        ...       ...       ...       ...\n",
      "470  1.000000  0.889380  0.335666  0.123436\n",
      "471  0.111111  0.114660  0.026003  0.044178\n",
      "472  0.777778  0.802788  0.540634  0.285336\n",
      "473  0.222222  0.287121  0.324202  0.486074\n",
      "474  0.333333  0.360803  0.155860  0.155687\n",
      "475  0.666667  0.579912  0.148578  0.067023\n",
      "476  0.333333  0.422972  0.226836  0.239563\n",
      "477  0.111111  0.161907  0.030247  0.054209\n",
      "478  0.444444  0.451303  0.253758  0.209158\n",
      "479  0.444444  0.515298  0.478036  0.421191\n",
      "480  0.222222  0.233744  0.201760  0.293146\n",
      "481  0.888889  0.775181  0.447446  0.200274\n",
      "482  0.888889  0.844102  0.778659  0.374234\n",
      "483  0.333333  0.397477  0.223516  0.235639\n",
      "484  1.000000  0.873064  0.733758  0.311614\n",
      "485  0.777778  0.796839  0.473263  0.245528\n",
      "486  0.555556  0.524446  0.421557  0.299875\n",
      "487  0.111111  0.108695  0.128873  0.287313\n",
      "488  0.888889  0.856406  0.336257  0.141875\n",
      "489  0.444444  0.485685  0.099617  0.063433\n",
      "490  0.888889  0.796073  0.551065  0.254697\n",
      "491  0.555556  0.530484  0.164268  0.097175\n",
      "492  0.888889  0.832451  0.429795  0.191004\n",
      "493  0.000000  0.112091  0.022490  0.111474\n",
      "494  1.000000  0.935294  0.924848  0.401942\n",
      "495  0.666667  0.635936  0.237539  0.127097\n",
      "496  0.555556  0.486447  0.060113  0.015118\n",
      "497  0.000000  0.106071  0.183374  0.871970\n",
      "498  0.333333  0.389664  0.030220  0.007212\n",
      "499  0.444444  0.500950  0.346021  0.296384\n",
      "\n",
      "[500 rows x 4 columns]\n"
     ]
    }
   ],
   "source": [
    "df_minmax = pd.DataFrame()\n",
    "for col in cols:\n",
    "    df_minmax[col]=(df[col]-df[col].min())/(df[col].max()-df[col].min())\n",
    "print(df_minmax)"
   ]
  },
  {
   "cell_type": "code",
   "execution_count": null,
   "metadata": {},
   "outputs": [],
   "source": []
  }
 ],
 "metadata": {
  "kernelspec": {
   "display_name": "Python 3 (ipykernel)",
   "language": "python",
   "name": "python3"
  },
  "language_info": {
   "codemirror_mode": {
    "name": "ipython",
    "version": 3
   },
   "file_extension": ".py",
   "mimetype": "text/x-python",
   "name": "python",
   "nbconvert_exporter": "python",
   "pygments_lexer": "ipython3",
   "version": "3.11.9"
  }
 },
 "nbformat": 4,
 "nbformat_minor": 4
}
