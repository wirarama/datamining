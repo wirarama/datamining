{
 "cells": [
  {
   "cell_type": "code",
   "execution_count": null,
   "metadata": {},
   "outputs": [],
   "source": [
    "import numpy as np\n",
    "import pandas as pd"
   ]
  },
  {
   "cell_type": "code",
   "execution_count": null,
   "metadata": {},
   "outputs": [],
   "source": [
    "df = pd.read_csv('vgsales.csv')"
   ]
  },
  {
   "cell_type": "code",
   "execution_count": null,
   "metadata": {},
   "outputs": [],
   "source": [
    "def discretization(attr):\n",
    "    inp = list(df[attr].to_numpy())\n",
    "    midi = df[attr].describe()\n",
    "    out = []\n",
    "    for x in inp:\n",
    "        if(x<=float(midi.loc['25%'])):\n",
    "            out.append(attr+\" sangat kecil\")\n",
    "        elif(x>float(midi.loc['25%']) and x<=float(midi.loc['50%'])):\n",
    "            out.append(attr+\" kecil\")\n",
    "        elif(x>float(midi.loc['50%']) and x<=float(midi.loc['75%'])):\n",
    "            out.append(attr+\" sedang\")\n",
    "        else:\n",
    "            out.append(attr+\" besar\")\n",
    "    return out\n",
    "def multiDiscretization(attrs):\n",
    "    for x in attrs:\n",
    "        df[x+\"_desc\"] = pd.Series(discretization(x),index=df.index)\n",
    "multiDiscretization(['NA_Sales','EU_Sales', 'JP_Sales', 'Other_Sales', 'Global_Sales'])"
   ]
  },
  {
   "cell_type": "code",
   "execution_count": null,
   "metadata": {},
   "outputs": [],
   "source": [
    "df"
   ]
  },
  {
   "cell_type": "code",
   "execution_count": null,
   "metadata": {},
   "outputs": [],
   "source": [
    "df.columns"
   ]
  },
  {
   "cell_type": "code",
   "execution_count": null,
   "metadata": {},
   "outputs": [],
   "source": [
    "data = df[['Platform','Genre','Publisher']].astype(str).values.tolist()"
   ]
  },
  {
   "cell_type": "code",
   "execution_count": null,
   "metadata": {},
   "outputs": [],
   "source": [
    "data = df[['Platform','Genre','Publisher','NA_Sales_desc','EU_Sales_desc', 'JP_Sales_desc', 'Other_Sales_desc', 'Global_Sales_desc']].astype(str).values.tolist()"
   ]
  },
  {
   "cell_type": "code",
   "execution_count": null,
   "metadata": {},
   "outputs": [],
   "source": [
    "from sqlalchemy import create_engine\n",
    "from pandas.io import sql\n",
    "engine = create_engine('sqlite:///:memory:')\n",
    "df.to_sql('vgsales',engine)"
   ]
  },
  {
   "cell_type": "code",
   "execution_count": null,
   "metadata": {},
   "outputs": [],
   "source": [
    "df['Genre'].unique()"
   ]
  },
  {
   "cell_type": "code",
   "execution_count": null,
   "metadata": {},
   "outputs": [],
   "source": [
    "type(data)"
   ]
  },
  {
   "cell_type": "code",
   "execution_count": null,
   "metadata": {},
   "outputs": [],
   "source": [
    "#tidak perlu dikerjakan yg ini\n",
    "def ARMformat(a,b,tb):\n",
    "    collect = []\n",
    "    for x in df[a].unique():\n",
    "        q = \"SELECT \"+b+\" FROM \"+tb+\" WHERE \"+a+\"='\"+x+\"'\"\n",
    "        res = pd.read_sql_query(q,engine)\n",
    "        res=res[b].unique()\n",
    "        resclean = []\n",
    "        for i in res:\n",
    "            if i!=None:\n",
    "                resclean.append(i)\n",
    "        #resmin = resclean[0:10] #terpaksa biar cepat saja\n",
    "        resmin = resclean\n",
    "        collect.append(list(resmin))\n",
    "    return collect"
   ]
  },
  {
   "cell_type": "code",
   "execution_count": null,
   "metadata": {},
   "outputs": [],
   "source": [
    "#tidak perlu dikerjakan yg ini\n",
    "data = ARMformat('Platform','Publisher','vgsales')\n",
    "len(data)"
   ]
  },
  {
   "cell_type": "code",
   "execution_count": null,
   "metadata": {},
   "outputs": [],
   "source": [
    "#tidak perlu dikerjakan yg ini\n",
    "i = 0\n",
    "pre = df['Platform'].unique()\n",
    "for dt in data:\n",
    "    print(pre[i],dt,\"\\n\")\n",
    "    i+=1"
   ]
  },
  {
   "cell_type": "markdown",
   "metadata": {},
   "source": [
    "FPGrowth"
   ]
  },
  {
   "cell_type": "code",
   "execution_count": null,
   "metadata": {},
   "outputs": [],
   "source": [
    "!pip install pyfpgrowth"
   ]
  },
  {
   "cell_type": "code",
   "execution_count": null,
   "metadata": {},
   "outputs": [],
   "source": [
    "import pyfpgrowth"
   ]
  },
  {
   "cell_type": "code",
   "execution_count": null,
   "metadata": {},
   "outputs": [],
   "source": [
    "patterns = pyfpgrowth.find_frequent_patterns(data,200)\n",
    "for p,d in patterns.items():\n",
    "    if len(p)>5:\n",
    "        print(p,\":\",d)"
   ]
  },
  {
   "cell_type": "code",
   "execution_count": null,
   "metadata": {},
   "outputs": [],
   "source": [
    "rules = pyfpgrowth.generate_association_rules(patterns, 1.0)\n",
    "for p,d in rules.items():\n",
    "    \"\"\"if len(p)>1:\n",
    "        if d[0][0]=='PS2':\n",
    "            print(p,\"=>\",d)\"\"\"\n",
    "    if \"JP_Sales\" in d[0][0]:\n",
    "        print(p,\"=>\",d)"
   ]
  },
  {
   "cell_type": "markdown",
   "metadata": {},
   "source": [
    "Apriori"
   ]
  },
  {
   "cell_type": "code",
   "execution_count": null,
   "metadata": {},
   "outputs": [],
   "source": [
    "!pip install efficient_apriori"
   ]
  },
  {
   "cell_type": "code",
   "execution_count": null,
   "metadata": {},
   "outputs": [],
   "source": [
    "from efficient_apriori import apriori"
   ]
  },
  {
   "cell_type": "code",
   "execution_count": null,
   "metadata": {},
   "outputs": [],
   "source": [
    "itemsets, rules = apriori(data, min_support=0.01,  min_confidence=1.0)"
   ]
  },
  {
   "cell_type": "code",
   "execution_count": null,
   "metadata": {},
   "outputs": [],
   "source": [
    "hasil = []\n",
    "for x in rules:\n",
    "    hasil.append([str(x.lhs)+\"=>\"+str(x.rhs),x.support,x.confidence,x.lift,x.conviction])\n",
    "    print(str(x.lhs)+\"=>\"+str(x.rhs),x.support,x.confidence,x.lift,x.conviction,sep=\"\\t\")"
   ]
  },
  {
   "cell_type": "markdown",
   "metadata": {},
   "source": [
    "Tugas lakukan hal yang sama dengan menggunakan avocado sales\n",
    "- lakukan discretization\n",
    "- lakukan format data\n",
    "- fp growth : panjang rule lebih dari 4, support: 0.05, confidence 1.0\n",
    "- apriori : panjang rule lebih dari 4, support: 0.05, confidence 1.0"
   ]
  },
  {
   "cell_type": "code",
   "execution_count": null,
   "metadata": {},
   "outputs": [],
   "source": []
  }
 ],
 "metadata": {
  "kernelspec": {
   "display_name": "Python 3 (ipykernel)",
   "language": "python",
   "name": "python3"
  },
  "language_info": {
   "codemirror_mode": {
    "name": "ipython",
    "version": 3
   },
   "file_extension": ".py",
   "mimetype": "text/x-python",
   "name": "python",
   "nbconvert_exporter": "python",
   "pygments_lexer": "ipython3",
   "version": "3.9.12"
  }
 },
 "nbformat": 4,
 "nbformat_minor": 4
}
